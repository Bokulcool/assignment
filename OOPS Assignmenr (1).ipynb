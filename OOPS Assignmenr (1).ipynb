{
  "metadata": {
    "kernelspec": {
      "name": "python",
      "display_name": "Python (Pyodide)",
      "language": "python"
    },
    "language_info": {
      "codemirror_mode": {
        "name": "python",
        "version": 3
      },
      "file_extension": ".py",
      "mimetype": "text/x-python",
      "name": "python",
      "nbconvert_exporter": "python",
      "pygments_lexer": "ipython3",
      "version": "3.8"
    }
  },
  "nbformat_minor": 5,
  "nbformat": 4,
  "cells": [
    {
      "id": "242ab8ac-df30-4b89-8049-f15891bc3188",
      "cell_type": "code",
      "source": "#Q1.What is Object-Oriented Programming (OOP)\n    \"\"\"\n    Object-Oriented Programming (OOP) is a programming paradigm based on the concept of objects, which are instances of classes. \n    It allows for organizing code in a way that models real-world entities, making it modular, reusable, and easier to maintain.\n    Key Principles of OOP:\n        Encapsulation – Bundling data (variables) and methods (functions) together within a class while restricting direct \n        access to some details.\n        Abstraction – Hiding complex implementation details and exposing only the necessary parts.\n        Inheritance – Allowing one class (child) to inherit properties and behaviors from another class (parent),\n        promoting code reusability.\n        Polymorphism – Enabling objects to be treated as instances of their parent class while allowing method \n        overriding and function overloading.\n    \"\"\"",
      "metadata": {
        "trusted": true
      },
      "outputs": [],
      "execution_count": null
    },
    {
      "id": "f716bdf4-ec27-44b7-9c69-b102b038380b",
      "cell_type": "code",
      "source": "#Q2 What is a class in OOP?\n    \"\"\"\n    In Object-Oriented Programming (OOP), a class is a blueprint or template for creating objects. It defines the properties \n    (attributes) and behaviors (methods) that the objects instantiated from the class will have.\n    Key Concepts of a Class:\n        Attributes (Fields/Properties) – These are variables that store the state or characteristics of an object.\n        Methods (Functions) – These define the behavior of the object, allowing it to perform actions.\n    \"\"\"",
      "metadata": {
        "trusted": true
      },
      "outputs": [],
      "execution_count": null
    },
    {
      "id": "57990da7-515e-47cc-8133-4425c4716e5c",
      "cell_type": "code",
      "source": "#Q3.What is an object in OOP?\n        \"\"\"\n    In Object-Oriented Programming (OOP), an object is an instance of a class. It represents a specific entity that has its\n    own state (attributes) and behavior (methods), as defined by the class.\n    Key Characteristics of an Object:\n        Identity – Each object is unique.\n        State – Defined by attributes (variables).\n        Behavior – Defined by methods (functions\n        \"\"\"",
      "metadata": {
        "trusted": true
      },
      "outputs": [],
      "execution_count": null
    },
    {
      "id": "816341ba-107b-4963-ac90-e3306a90f5f5",
      "cell_type": "code",
      "source": "#Q4.What is the difference between abstraction and encapsulation?\n    \"\"\"\n     Abstraction and Encapsulation are key concepts in Object-Oriented Programming\n    (OOP), but they serve different purposes.\n    Abstraction :\n    Abstraction is the process of hiding implementation details and exposing only essential functionalities.\n    It helps in reducing complexity by only showing relevant information to the user.\n    \n    Encapsulation:\n    Encapsulation is the process of bundling data (variables) and methods (functions) together inside a class.\n    It also restricts direct access to certain details, protecting the integrity of the data.\n    \"\"\"",
      "metadata": {
        "trusted": true
      },
      "outputs": [],
      "execution_count": null
    },
    {
      "id": "2f25c490-4662-4649-836a-e43f6f0e1b8b",
      "cell_type": "code",
      "source": "#q5. What are dunder methods in Python?\n    \"\"\"\n    Dunder methods (short for \"double underscore\" methods) are special methods in Python that begin and end with double\n    underscores, like __init__, __str__, and __len__. They are also called \"magic methods\" because they enable built-in\n    behaviors and operator overloading in classes.\n    \"\"\"",
      "metadata": {
        "trusted": true
      },
      "outputs": [],
      "execution_count": null
    },
    {
      "id": "b73bf0e6-d1bf-4b04-990d-63cee79536ad",
      "cell_type": "code",
      "source": "#Q.6.Inheritance in Object-Oriented Programming (OOP)?\n    \"\"\"\n    Inheritance is a key concept in Object-Oriented Programming (OOP) that allows one class (called a child or subclass) to \n    inherit attributes and methods from another class (called a parent or superclass). This promotes code reuse, extensibility, \n    and helps organize code into hierarchical relationships.\n    Inheritance allows a child class to:\n    Use the methods and properties of the parent class.\n    Override methods of the parent class to provide custom behavior.\n    Add new methods and properties specific to the child class.\n    \"\"\"",
      "metadata": {
        "trusted": true
      },
      "outputs": [],
      "execution_count": null
    },
    {
      "id": "2feb0b59-9203-4ea9-874a-c1e80e700566",
      "cell_type": "code",
      "source": "#Q.7. What is polymorphism in OOP?\n    \"\"\"\n    Polymorphism means \"many forms\" and allows different classes to be treated as instances of the same class through a \n    common interface. It enables a single method, function, or operator to work differently based on the object it is called\n    on.\n    Why Use Polymorphism?\n          Code Reusability → Write general code that works with multiple object types.\n          Flexibility & Extensibility → Add new classes without modifying existing code.\n          Simplifies Code → Reduces the need for complex conditional logic.\n    \"\"\"",
      "metadata": {
        "trusted": true
      },
      "outputs": [],
      "execution_count": null
    },
    {
      "id": "fc07904a-c27c-4c29-80a4-3e3f9a22ad37",
      "cell_type": "code",
      "source": "# Q.8. How is encapsulation achieved in Python?\n    \"\"\"\n      Encapsulation in Python (OOP)\n     Encapsulation is the concept of restricting direct access to data and methods within a class and only exposing necessary\n     functionality.It is achieved using private and protected access modifiers in Python.\n    \n    \"\"\"",
      "metadata": {
        "trusted": true
      },
      "outputs": [],
      "execution_count": null
    },
    {
      "id": "bce152f2-8351-417a-a992-6d86af0d6b0e",
      "cell_type": "code",
      "source": "# Q.9 What is a constructor in Python?\n\n    \"\"\"\n    A constructor is a special method in a class that automatically executes when an object is created. It is used to \n    initialize object attributes.\n    \"\"\"",
      "metadata": {
        "trusted": true
      },
      "outputs": [],
      "execution_count": null
    },
    {
      "id": "4e279c54-cf65-4d4d-8a86-584c4992b301",
      "cell_type": "code",
      "source": "#Q.10.What are class and static methods in Python?\n    \"\"\"\n    Both class methods and static methods in Python are used to define functions inside a class that are not tied to\n    individual instances. However, they have key differences in how they work and when to use them.\n    \"\"\"",
      "metadata": {
        "trusted": true
      },
      "outputs": [],
      "execution_count": null
    },
    {
      "id": "e9007ff6-4b79-4804-bf68-ba945c503e47",
      "cell_type": "code",
      "source": "#Q11.What is method overloading in Python?\n    \"\"\"\n    In Object-Oriented Programming (OOP), method overloading allows a class to define multiple methods with the same name but\n    with different arguments (parameter types or numbers). This gives flexibility for the same method to perform different \n    tasks based on the input parameters.\n    \"\"\"",
      "metadata": {
        "trusted": true
      },
      "outputs": [],
      "execution_count": null
    },
    {
      "id": "ae3ad0a7-b12e-4171-89dd-f89a7eac7faf",
      "cell_type": "code",
      "source": "#Q12. What is method overriding in OOP\n    \"\"\"\n    Method overriding is a concept in Object-Oriented Programming (OOP) where a child class provides a specific implementation\n    of a method that is already defined in its parent class.The child class method overrides the method of the parent class, \n    meaning the child class version is called when the method is invoked on an instance of the child class.\n    Key Features of Method Overriding:\n        The method name and the parameter list must be the same in both the parent and child classes.\n        The child class method can perform the same operation as the parent class method, or it can change the behavior to suit its needs.\n        Overriding is useful for customizing or extending the functionality of inherited methods.\n    \"\"\"",
      "metadata": {
        "trusted": true
      },
      "outputs": [],
      "execution_count": null
    },
    {
      "id": "806d8b7f-1984-476b-95f0-99e79196ada8",
      "cell_type": "code",
      "source": "#Q13.What is a property decorator in Python?\n    \"\"\"\n    The property decorator in Python is used to define a getter method for a class attribute. It allows you to define a method\n    that acts like an attribute, enabling controlled access to instance variables without requiring direct manipulation.\n    \"\"\"",
      "metadata": {
        "trusted": true
      },
      "outputs": [],
      "execution_count": null
    },
    {
      "id": "cfe02040-d40e-4484-b3ba-60cc1667a196",
      "cell_type": "code",
      "source": "#14.Why is polymorphism important in OOP ?\n    \"\"\"\n    Polymorphism is one of the four fundamental principles of Object-Oriented Programming (OOP), alongside encapsulation, \n    abstraction, and inheritance. It allows objects of different classes to be treated as objects of a common superclass,\n    primarily through the same interface or method. In simple terms, polymorphism means \"many shapes,\" and in programming,\n    it enables a single function or method to operate on different types of objects.\n    \"\"\"",
      "metadata": {
        "trusted": true
      },
      "outputs": [],
      "execution_count": null
    },
    {
      "id": "b90fc05b-5d04-4db6-9f38-e5cf5038e1da",
      "cell_type": "code",
      "source": "#15.What is an abstract class in Python?\n    \"\"\"\n    An abstract class in Python is a class that cannot be instantiated on its own and serves as a blueprint for other classes.\n    It is designed to define a common interface for its subclasses, ensuring that they implement certain methods.\n\n    An abstract class can contain:\n        Abstract methods: Methods that are declared but have no implementation. Subclasses are required to implement these methods.\n        Concrete methods: Methods that have a full implementation and can be used directly by subclasses.\n    \"\"\"",
      "metadata": {
        "trusted": true
      },
      "outputs": [],
      "execution_count": null
    },
    {
      "id": "f8a4ec7a-1359-4648-86b7-c9cebaa6639f",
      "cell_type": "code",
      "source": " #16.What are the advantages of OOP?\n    \"\"\"\n    Object-Oriented Programming (OOP) is a popular programming paradigm that organizes software design around objects and \n    classes. This paradigm offers several advantages over procedural programming, especially in large, complex systems.\n    Modularity\n    advantages of OOP\n    1.  Modularity\n        OOP encourages modularity, meaning that code is organized into separate, self-contained classes and objects.\n    2.Code Reusability (Inheritance)\n        OOP promotes code reuse through inheritance. Once a class is defined, it can be extended by other classes to reuse\n        its functionality\n    3.Data Encapsulation (Abstraction)\n        Encapsulation allows data to be hidden inside objects, and access to the data is provided through public methods (getter and setter functions).\n    4. Flexibility through Polymorphism\n        Polymorphism allows a single interface to represent different underlying forms (objects), enabling flexibility.   \n    5.Easier Maintenance and Upgrades\n        OOP’s modular structure makes it easier to modify, maintain, or upgrade parts of the system without affecting other areas.\n    6.Clearer Structure and Organization\n        OOP organizes code in a clear and logical structure, which makes it easier to understand and follow.    \n    \"\"\"",
      "metadata": {
        "trusted": true
      },
      "outputs": [],
      "execution_count": null
    },
    {
      "id": "c2aa401f-0831-4e0b-8b32-d1619c6044e3",
      "cell_type": "code",
      "source": "#17.What is the difference between a class variable and an instance variable?\n    \"\"\"\n    In Python, variables can be categorized into two main types: class variables and instance variables. While both store data,\n    they have distinct behaviors and scopes\n   \n    Class Variable:\n\n        A class variable is a variable that is shared by all instances of a class.\n        It is defined within the class but outside any methods (usually at the top of the class).\n        Class variables are typically used to store values or state that should be common to all instances of the class.\n    Instance Variable:\n\n        An instance variable is a variable that is specific to an individual instance of the class.\n        It is typically defined inside the __init__() method (constructor) using the self keyword.\n        Instance variables store data that can vary between different instances of the class.\n    \"\"\"",
      "metadata": {
        "trusted": true
      },
      "outputs": [],
      "execution_count": null
    },
    {
      "id": "f8dc6634-ca05-4a49-a966-20d0a544df71",
      "cell_type": "code",
      "source": "#18.What is multiple inheritance in Python?\n    \"\"\"\n    Multiple inheritance in Python refers to a feature where a class can inherit attributes and methods from more than one\n    parent class. This allows a class to combine behaviors and attributes from multiple base classes.\n\n    Inheritance from Multiple Classes:\n        A child class can inherit methods and attributes from more than one parent class.\n    Method Resolution Order (MRO):\n        Python uses the Method Resolution Order (MRO) to determine the order in which base classes are searched when a method\n        or attribute is called. MRO is especially important when multiple base classes have the same method name.Python follows\n        the C3 Linearization algorithm to determine the MRO. You can view the MRO for a class using the mro() method.\n    Constructor Call:\n        When creating an object of the child class, the constructors of all parent classes are called in the order defined by MRO, \n        which can be customized using the super() function.\n    \"\"\"",
      "metadata": {
        "trusted": true
      },
      "outputs": [],
      "execution_count": null
    },
    {
      "id": "189c207a-814a-4370-b0ce-b2c71156ba63",
      "cell_type": "code",
      "source": "#19.Explain the purpose of ‘’__str__’ and ‘__repr__’ ‘ methods in Python ?\n    \"\"\"\n    In Python, __str__ and __repr__ are two special methods used to define how objects are represented as strings. \n    Both methods serve different purposes, and understanding their distinctions is key to properly implementing string \n    representations for your custom classes.\n        __str__ Method\n        Purpose: The __str__ method is used to define a human-readable string representation of an object. When you call str()\n        on an object, Python will internally call the __str__ method.\n        __repr__ Method\n        Purpose: The __repr__ method is meant to provide a formal string representation of an object that could be used to \n        recreate the object. The string returned by __repr__ is intended to be unambiguous and suitable for debugging.\n        \n    \"\"\"",
      "metadata": {
        "trusted": true
      },
      "outputs": [],
      "execution_count": null
    },
    {
      "id": "2c791928-837d-4d94-a27b-f352bc70d2c8",
      "cell_type": "code",
      "source": "#20.What is the significance of the ‘super()’ function in Python?\n    \"\"\"\n      The super() function in Python is used to call methods or constructors from a parent class in a subclass. \n      It's an essential part of working with inheritance and helps in various situations like method overriding and\n      calling parent constructors. Let's break down its significance and common use cases: \n      1.Calling Parent Class Methods\n        The primary purpose of super() is to allow a subclass to call a method defined in its parent class (or classes). \n        This is especially useful when you want to extend or override a method from a parent class while still retaining\n        the behavior of the parent method.\n        2.Using super() to Call Parent Constructors (in __init__)\n            You can use super() to call the constructor (__init__) of a parent class, allowing the subclass to inherit and\n            extend the initialization behavior of the parent class.\n    \"\"\"",
      "metadata": {
        "trusted": true
      },
      "outputs": [],
      "execution_count": null
    },
    {
      "id": "7dd37846-c99b-432b-9ee3-ab3f0615cb7b",
      "cell_type": "code",
      "source": "#21.What is the significance of the __del__ method in Python?\n    \"\"\"\n       The __del__ method in Python is a destructor method, meaning it is called when an object is about to be destroyed or\n       garbage-collected. It allows you to define specific clean-up operations, such as closing files, releasing resources, \n       or freeing up any memory or external resources that the object may have acquired during its lifetime. \n     Key Points about __del__:\n    Called Automatically:\n        The __del__ method is automatically invoked when an object is about to be destroyed. This happens when the reference \n        count of the object drops to zero, indicating that no other part of the program is using the object.\n    Resource Management:\n        It's typically used for clean-up tasks like closing files, network connections, or releasing any other external \n        resources that the object may have acquired during its existence.\n    When __del__ is Called:\n        When an object is explicitly deleted using del.\n        When the program ends and Python's garbage collector destroys objects no longer in use.\n    \"\"\"",
      "metadata": {
        "trusted": true
      },
      "outputs": [],
      "execution_count": null
    },
    {
      "id": "9dc5972f-2383-4e1c-9ad2-98534a6a7f56",
      "cell_type": "code",
      "source": "#22. What is the difference between @staticmethod and @classmethod in Python?\n    \"\"\"\n    @classmethod\n        Takes the class as the first parameter, cls \n        Can access and modify the class state \n        Can be used to create objects of the class in a different way \n        Can be used as a factory function to create new objects \n    @staticmethod\n        Does not take any specific parameters \n        Cannot access or modify the class state \n        Can be used to define utility functions within the class's scope \n        Behaves like a regular function, but is included in a class because it has a logical connection to the class \n    \"\"\"",
      "metadata": {
        "trusted": true
      },
      "outputs": [],
      "execution_count": null
    },
    {
      "id": "85908b32-7774-48b6-840f-a3613d028ba9",
      "cell_type": "code",
      "source": "#23.How does polymorphism work in Python with inheritance?\n    \"\"\"\n    Polymorphism is a foundational concept in programming that allows entities like functions, methods or operators to behave\n    differently based on the type of data they are handling. Derived from Greek, the term literally means “many forms”.\n\n    Python’s dynamic typing and duck typing make it inherently polymorphic. Functions, operators and even built-in objects \n    like loops exhibit polymorphic behavior.\n    \"\"\"",
      "metadata": {
        "trusted": true
      },
      "outputs": [],
      "execution_count": null
    },
    {
      "id": "d876beae-c1a9-47b5-89e6-3c4a0dcaca66",
      "cell_type": "code",
      "source": "#24.What is method chaining in Python OOP?\n    \"\"\"\n    In Python Object-Oriented Programming (OOP), \"method chaining\" is a technique where you call multiple methods on the same\n    object sequentially in a single line of code, with each method returning the object itself, allowing you to chain further\n    operations on the modified object without needing to store intermediate results in separate variables, resulting in more \n    concise and readable code. \n    \"\"\"",
      "metadata": {
        "trusted": true
      },
      "outputs": [],
      "execution_count": null
    },
    {
      "id": "a2bc5f72-fd55-494d-b2f8-5a10eea26dec",
      "cell_type": "code",
      "source": "#25.What is the purpose of the __call__ method in Python?\n    \"\"\"\n    __call__() is to turn your instances into callable objects. In other words, its purpose is to create objects that you can \n    call as you would call a regular function. Most Python classes don't implement this method. Your custom classes will have \n    it only if you need to use your instances as functions.\n    \"\"\"",
      "metadata": {
        "trusted": true
      },
      "outputs": [],
      "execution_count": null
    },
    {
      "id": "5056a753-1ac7-4a61-8945-b99813e8ee4c",
      "cell_type": "code",
      "source": "                        #Practicle Question",
      "metadata": {
        "trusted": true
      },
      "outputs": [],
      "execution_count": null
    },
    {
      "id": "d83ff089-5049-432b-ae9e-6b421bede1bd",
      "cell_type": "code",
      "source": "#1. Create a parent class Animal with a method speak() that prints a generic message. Create a child class Dog \n#that overrides the speak() method to print \"Bark!\".",
      "metadata": {
        "trusted": true
      },
      "outputs": [],
      "execution_count": null
    },
    {
      "id": "eb578ea2-2d32-46bc-8796-946987e190e3",
      "cell_type": "code",
      "source": "class Animal:\n    def speak(self):\n        print(\"This animal makes a sound.\")\n\nclass Dog(Animal):\n    def speak(self):\n        print(\"Bark!\")\n\n# Example usage\ngeneric_animal = Animal()\ngeneric_animal.speak()  # Output: This animal makes a sound.\n\ndog = Dog()\ndog.speak()  # Output: Bark!\n",
      "metadata": {
        "trusted": true
      },
      "outputs": [
        {
          "name": "stdout",
          "output_type": "stream",
          "text": "This animal makes a sound.\nBark!\n"
        }
      ],
      "execution_count": 2
    },
    {
      "id": "969c33a0-5391-4fe1-8cae-d70076eea4a5",
      "cell_type": "code",
      "source": "#Q2.Write a program to create an abstract class Shape with a method area(). Derive classes Circle and Rectangle\n#from it and implement the area() method in both.",
      "metadata": {
        "trusted": true
      },
      "outputs": [],
      "execution_count": null
    },
    {
      "id": "6d129240-b813-4e3b-9f50-a4d60c243e78",
      "cell_type": "code",
      "source": "class shape():\n    def area(self):\n        print(\"area\")\n\nclass circle():\n    def area (self):\n        print(\"area of circle\")\nclass rect():\n    def area(self):\n        print(\"area of rect\")\n        ",
      "metadata": {
        "trusted": true
      },
      "outputs": [],
      "execution_count": 3
    },
    {
      "id": "2d0c6d75-06dd-49eb-9789-6d1e3968b695",
      "cell_type": "code",
      "source": "#Q3. Implement a multi-level inheritance scenario where a class Vehicle has an attribute type. Derive a class Car\n#and further derive a class ElectricCar that adds a battery attribute",
      "metadata": {
        "trusted": true
      },
      "outputs": [],
      "execution_count": null
    },
    {
      "id": "1e73f276-a01a-44ac-ac6a-85533c756476",
      "cell_type": "code",
      "source": "",
      "metadata": {
        "trusted": true
      },
      "outputs": [],
      "execution_count": null
    },
    {
      "id": "7bc5bd0e-6cde-4228-9d4f-fbbf41b22005",
      "cell_type": "code",
      "source": "#Q5.Write a program to demonstrate encapsulation by creating a class BankAccount with private attributes\n#balance and methods to deposit, withdraw, and check balance.",
      "metadata": {
        "trusted": true
      },
      "outputs": [],
      "execution_count": null
    },
    {
      "id": "01d7fdfe-8c58-428d-a476-86b755d8e438",
      "cell_type": "code",
      "source": "class BankAccount:\n    def __init__(self, initial_balance=0):\n        # Private attribute\n        self.__balance = initial_balance\n\n    # Method to deposit money\n    def deposit(self, amount):\n        if amount > 0:\n            self.__balance += amount\n            print(f\"Deposited ${amount}. New balance is ${self.__balance}.\")\n        else:\n            print(\"Invalid deposit amount.\")\n\n    # Method to withdraw money\n    def withdraw(self, amount):\n        if 0 < amount <= self.__balance:\n            self.__balance -= amount\n            print(f\"Withdrew ${amount}. New balance is ${self.__balance}.\")\n        else:\n            print(\"Invalid withdrawal amount or insufficient funds.\")\n\n    # Method to check balance\n    def get_balance(self):\n        return self.__balanc\n    ",
      "metadata": {
        "trusted": true
      },
      "outputs": [],
      "execution_count": null
    },
    {
      "id": "84a298d3-c8ad-430e-adb6-53ef9aa46af8",
      "cell_type": "code",
      "source": "#Q6.Demonstrate runtime polymorphism using a method play() in a base class Instrument. Derive classes Guitar\n#and Piano that implement their own version of play().",
      "metadata": {
        "trusted": true
      },
      "outputs": [],
      "execution_count": null
    },
    {
      "id": "278fd1c4-d68c-4ae5-a6a0-a9bbdd6b3c5f",
      "cell_type": "code",
      "source": "class Instrument:\n    def play(self):\n        print(\"Playing an instrument\")\n\nclass Guitar(Instrument):\n    def play(self):\n        print(\"Strumming the guitar\")\n\nclass Piano(Instrument):\n    def play(self):\n        print(\"Playing the piano\")\n\n# Demonstration of runtime polymorphism\nif __name__ == \"__main__\":\n    # List of instrument objects\n    instruments = [Guitar(), Piano(), Instrument()]\n\n    for instrument in instruments:\n        instrument.play()  # Calls the appropriate version of play() at runtime\n",
      "metadata": {
        "trusted": true
      },
      "outputs": [],
      "execution_count": null
    },
    {
      "id": "83253588-4093-4bb6-ac6a-a8f5dbd1bf20",
      "cell_type": "code",
      "source": "#Q7.Create a class MathOperations with a class method add_numbers() to add two numbers and a static\n#method subtract_numbers() to subtract two numbers.",
      "metadata": {
        "trusted": true
      },
      "outputs": [],
      "execution_count": null
    },
    {
      "id": "d649789d-46b2-4758-a5b4-1005c2e47e03",
      "cell_type": "code",
      "source": "class MathOperations:\n    # Class method to add two numbers\n    @classmethod\n    def add_numbers(cls, a, b):\n        return a + b\n\n    # Static method to subtract two numbers\n    @staticmethod\n    def subtract_numbers(a, b):\n        return a - b\n      \n# Demonstration of MathOperations class\nif __name__ == \"__main__\":\n    # Using class method\n    sum_result = MathOperations.add_numbers(10, 5)\n    print(f\"Sum: {sum_result}\")\n\n    # Using static method\n    difference_result = MathOperations.subtract_numbers(10, 5)\n    print(f\"Difference: {difference_result}\")",
      "metadata": {
        "trusted": true
      },
      "outputs": [],
      "execution_count": null
    },
    {
      "id": "18400fcb-07a2-4397-b20d-88a9f693f9cc",
      "cell_type": "code",
      "source": "#Q.8 Implement a class Person with a class method to count the total number of persons created.",
      "metadata": {
        "trusted": true
      },
      "outputs": [],
      "execution_count": null
    },
    {
      "id": "5b097ac6-0cac-4c1f-9bff-64101e90af21",
      "cell_type": "code",
      "source": "class Person:\n    # Class variable to keep track of the total number of persons\n    total_persons = 0\n\n    def __init__(self, name):\n        self.name = name\n        Person.total_persons += 1  # Increment count when a new person is created\n\n    # Class method to get the total number of persons\n    @classmethod\n    def get_total_persons(cls):\n        return cls.total_persons\n\n# Demonstration of Person class\nif __name__ == \"__main__\":\n    person1 = Person(\"Alice\")\n    person2 = Person(\"Bob\")\n    person3 = Person(\"Charlie\")\n\n    # Displaying the total number of persons created\n    print(f\"Total Persons Created: {Person.get_total_persons()}\")\n",
      "metadata": {
        "trusted": true
      },
      "outputs": [],
      "execution_count": null
    },
    {
      "id": "53c78c95-da03-4180-aab1-948b4af3d343",
      "cell_type": "code",
      "source": "#Q.9 Write a class Fraction with attributes numerator and denominator. Override the str method to display the\n#fraction as \"numerator/denominator\".",
      "metadata": {
        "trusted": true
      },
      "outputs": [],
      "execution_count": null
    },
    {
      "id": "e56d3c1a-edb9-41f9-b79a-5340925e9987",
      "cell_type": "code",
      "source": "class Fraction:\n    def __init__(self, numerator, denominator):\n        self.numerator = numerator\n        self.denominator = denominator\n\n    def __str__(self):\n        return f\"{self.numerator}/{self.denominator}\"\n\n# Example usage\nfrac = Fraction(3, 4)\nprint(frac)  # Output: 3/4",
      "metadata": {
        "trusted": true
      },
      "outputs": [],
      "execution_count": null
    },
    {
      "id": "436e8f00-c9c0-497e-845c-db429e808707",
      "cell_type": "code",
      "source": "#Q10. Demonstrate operator overloading by creating a class Vector and overriding the add method to add two\n#vectors.",
      "metadata": {
        "trusted": true
      },
      "outputs": [],
      "execution_count": null
    },
    {
      "id": "aa647e66-258c-45ef-8ab0-84141b0ed56b",
      "cell_type": "code",
      "source": "class Vector:\n    def __init__(self, x, y):\n        self.x = x\n        self.y = y\n    def __add__(self, other):\n        if isinstance(other, Vector):\n            return Vector(self.x + other.x, self.y + other.y)\n        raise TypeError(\"Operand must be of type Vector\")\n    def __str__(self):\n        return f\"Vector({self.x}, {self.y})\"\n\n# Example usage\nv1 = Vector(3, 4)\nv2 = Vector(1, 2)\nv3 = v1 + v2  # Using the overloaded '+' operator\nprint(v3)  # Output: Vector(4, 6)",
      "metadata": {
        "trusted": true
      },
      "outputs": [],
      "execution_count": null
    },
    {
      "id": "be6e6cc1-7848-45f1-9412-b4c4fdeca83e",
      "cell_type": "code",
      "source": "#Q.11.Create a class Person with attributes name and age. Add a method greet() that prints \"Hello, my name is\n#{name} and I am {age} years old.\"",
      "metadata": {
        "trusted": true
      },
      "outputs": [],
      "execution_count": null
    },
    {
      "id": "20e6e182-b046-4d29-aefe-0f4db6a60b94",
      "cell_type": "code",
      "source": "class Person:\n    def __init__(self, name, age):\n        self.name = name\n        self.age = age\n\n    def greet(self):\n        print(f\"Hello, my name is {self.name} and I am {self.age} years old.\")\n\n# Example usage:\np = Person(\"Alice\", 30)\np.greet()  # Output: Hello, my name is Alice and I am 30 years old.\n",
      "metadata": {
        "trusted": true
      },
      "outputs": [],
      "execution_count": null
    },
    {
      "id": "dc51ac0a-caf5-4943-8db8-e7e18cccf347",
      "cell_type": "code",
      "source": "#Q.12 Implement a class Student with attributes name and grades. Create a method average_grade() to compute\n#the average of the grades.",
      "metadata": {
        "trusted": true
      },
      "outputs": [],
      "execution_count": null
    },
    {
      "id": "63b95715-d0ef-407e-ad0f-4885dd1fa0dd",
      "cell_type": "code",
      "source": "class Student:\n    def __init__(self, name, grades):\n        self.name = name\n        self.grades = grades  # List of grades\n\n    def average_grade(self):\n        if not self.grades:\n            return 0  # Return 0 if there are no grades to avoid division by zero\n        return sum(self.grades) / len(self.grades)\n\n    def __str__(self):\n        return f\"Student: {self.name}, Average Grade: {self.average_grade():.2f}\"\n\nstudent1 = Student(\"Alice\", [85, 90, 78, 92])\nstudent2 = Student(\"Bob\", [88, 76, 95])\n\nprint(student1)  # Output: Student: Alice, Average Grade: 86.25\nprint(student2)  # Output: Student: Bob, Average Grade: 86.33\n",
      "metadata": {
        "trusted": true
      },
      "outputs": [],
      "execution_count": null
    },
    {
      "id": "c49e466d-a144-433f-adde-4cd61a8b76a7",
      "cell_type": "code",
      "source": "#Q13.Create a class Rectangle with methods set_dimensions() to set the dimensions and area() to calculate the\n#area.",
      "metadata": {
        "trusted": true
      },
      "outputs": [],
      "execution_count": null
    },
    {
      "id": "8d613656-04c4-49fb-8dab-761cb130ca5a",
      "cell_type": "code",
      "source": "class Rectangle:\n    def __init__(self, length=0, width=0):\n        self.length = length\n        self.width = width\n\n    def set_dimensions(self, length, width):\n        \"\"\"Sets the dimensions of the rectangle.\"\"\"\n        self.length = length\n        self.width = width\n\n    def area(self):\n        \"\"\"Calculates and returns the area of the rectangle.\"\"\"\n        return self.length * self.width\n\n    def __str__(self):\n        return f\"Rectangle: Length = {self.length}, Width = {self.width}, Area = {self.area()}\"\n\n# Example usage\nrect = Rectangle()  # Creating a rectangle with default dimensions (0, 0)\nrect.set_dimensions(5, 10)  # Setting dimensions\nprint(rect)  # Output: Rectangle: Length = 5, Width = 10, Area = 50\n",
      "metadata": {
        "trusted": true
      },
      "outputs": [],
      "execution_count": null
    },
    {
      "id": "748655cc-459c-4d9a-92fd-2a23628f059d",
      "cell_type": "code",
      "source": "#Q14. Create a class Employee with a method calculate_salary() that computes the salary based on hours worked\n#and hourly rate. Create a derived class Manager that adds a bonus to the salary.",
      "metadata": {
        "trusted": true
      },
      "outputs": [],
      "execution_count": null
    },
    {
      "id": "3eeb582e-7542-4b66-b4db-5492f1f3cf13",
      "cell_type": "code",
      "source": "class Employee:\n    def __init__(self, name, hours_worked, hourly_rate):\n        self.name = name\n        self.hours_worked = hours_worked\n        self.hourly_rate = hourly_rate\n\n    def calculate_salary(self):\n        \"\"\"Computes salary based on hours worked and hourly rate.\"\"\"\n        return self.hours_worked * self.hourly_rate\n\n    def __str__(self):\n        return f\"Employee: {self.name}, Salary: ${self.calculate_salary():.2f}\"\n\nclass Manager(Employee):\n    def __init__(self, name, hours_worked, hourly_rate, bonus):\n        super().__init__(name, hours_worked, hourly_rate)\n        self.bonus = bonus\n\n    def calculate_salary(self):\n        \"\"\"Computes salary including the bonus.\"\"\"\n        return super().calculate_salary() + self.bonus\n\n    def __str__(self):\n        return f\"Manager: {self.name}, Salary (with bonus): ${self.calculate_salary():.2f}\"\n\n# Example usage\nemp = Employee(\"Alice\", 40, 20)  # 40 hours * $20 per hour\nmgr = Manager(\"Bob\", 40, 30, 500)  # 40 hours * $30 per hour + $500 bonus\n\nprint(emp)  # Output: Employee: Alice, Salary: $800.00\nprint(mgr)  # Output: Manager: Bob, Salary (with bonus): $1700.00\n",
      "metadata": {
        "trusted": true
      },
      "outputs": [],
      "execution_count": null
    },
    {
      "id": "18971b0c-702d-4981-8edd-7cbd3615398a",
      "cell_type": "code",
      "source": "#Q.15 Create a class Product with attributes name, price, and quantity. Implement a method total_price() that\n#calculates the total price of the product.",
      "metadata": {
        "trusted": true
      },
      "outputs": [],
      "execution_count": null
    },
    {
      "id": "e1fa9dc8-9836-4a30-ae06-2a9cdfb81e7c",
      "cell_type": "code",
      "source": "class Employee:\n    def __init__(self, name, hours_worked, hourly_rate):\n        self.name = name\n        self.hours_worked = hours_worked\n        self.hourly_rate = hourly_rate\n\n    def calculate_salary(self):\n        \"\"\"Computes salary based on hours worked and hourly rate.\"\"\"\n        return self.hours_worked * self.hourly_rate\n\n    def __str__(self):\n        return f\"Employee: {self.name}, Salary: ${self.calculate_salary():.2f}\"\n\nclass Manager(Employee):\n    def __init__(self, name, hours_worked, hourly_rate, bonus):\n        super().__init__(name, hours_worked, hourly_rate)\n        self.bonus = bonus\n\n    def calculate_salary(self):\n        \"\"\"Computes salary including the bonus.\"\"\"\n        return super().calculate_salary() + self.bonus\n\n    def __str__(self):\n        return f\"Manager: {self.name}, Salary (with bonus): ${self.calculate_salary():.2f}\"\n\n# Example usage\nemp = Employee(\"Alice\", 40, 20)  # 40 hours * $20 per hour\nmgr = Manager(\"Bob\", 40, 30, 500)  # 40 hours * $30 per hour + $500 bonus\n\nprint(emp)  # Output: Employee: Alice, Salary: $800.00\nprint(mgr)  # Output: Manager: Bob, Salary (with bonus): $1700.00\n",
      "metadata": {
        "trusted": true
      },
      "outputs": [],
      "execution_count": null
    },
    {
      "id": "99425742-f7a0-43cf-bb45-ad346778c954",
      "cell_type": "code",
      "source": "#Q.16  Create a class Animal with an abstract method sound(). Create two derived classes Cow and Sheep that\n#implement the sound() method.",
      "metadata": {
        "trusted": true
      },
      "outputs": [],
      "execution_count": null
    },
    {
      "id": "0332754b-8246-4543-b763-37a6fb87031c",
      "cell_type": "code",
      "source": "from abc import ABC, abstractmethod\n\nclass Animal(ABC):\n    @abstractmethod\n    def sound(self):\n        \"\"\"Abstract method to be implemented by derived classes.\"\"\"\n        pass\n\nclass Cow(Animal):\n    def sound(self):\n        \"\"\"Implementation of sound for Cow.\"\"\"\n        return \"Moo\"\n\nclass Sheep(Animal):\n    def sound(self):\n        \"\"\"Implementation of sound for Sheep.\"\"\"\n        return \"Baa\"\n\n# Example usage\ncow = Cow()\nsheep = Sheep()\n\nprint(f\"Cow sound: {cow.sound()}\")  # Output: Cow sound: Moo\nprint(f\"Sheep sound: {sheep.sound()}\")  # Output: Sheep sound: Baa\n",
      "metadata": {
        "trusted": true
      },
      "outputs": [],
      "execution_count": null
    },
    {
      "id": "84c31c15-595f-4358-846e-a3d0ab999279",
      "cell_type": "code",
      "source": "#Q.17.Create a class Book with attributes title, author, and year_published. Add a method get_book_info() that\n#returns a formatted string with the book's details.",
      "metadata": {
        "trusted": true
      },
      "outputs": [],
      "execution_count": null
    },
    {
      "id": "efc388ba-a6b3-42af-bae2-918f76281874",
      "cell_type": "code",
      "source": "class Book:\n    def __init__(self, title, author, year_published):\n        self.title = title\n        self.author = author\n        self.year_published = year_published\n\n    def get_book_info(self):\n        \"\"\"Returns a formatted string with the book's details.\"\"\"\n        return f\"Title: {self.title}, Author: {self.author}, Year Published: {self.year_published}\"\n\n    def __str__(self):\n        return self.get_book_info()\n\n# Example usage\nbook1 = Book(\"1984\", \"George Orwell\", 1949)\nbook2 = Book(\"To Kill a Mockingbird\", \"Harper Lee\", 1960)\n\nprint(book1)  # Output: Title: 1984, Author: George Orwell, Year Published: 1949\nprint(book2)  # Output: Title: To Kill a Mockingbird, Author: Harper Lee, Year Published: 1960\n",
      "metadata": {
        "trusted": true
      },
      "outputs": [],
      "execution_count": null
    },
    {
      "id": "d03a24e9-56b5-4285-a2aa-ad3ae621289c",
      "cell_type": "code",
      "source": "#Q.18. Create a class House with attributes address and price. Create a derived class Mansion that adds an\n#attribute number_of_rooms.",
      "metadata": {
        "trusted": true
      },
      "outputs": [],
      "execution_count": null
    },
    {
      "id": "ffc85fd3-db9f-4904-b5d9-f7508be0061f",
      "cell_type": "code",
      "source": "class Student:\n    def __init__(self, name, grades):\n    \n        self.name = name\n        self.grades = grades\n    \n    def average_grade(self):\n        \n        if not self.grades:\n            return 0  # Return 0 if no grades are present to avoid division by zero\n        return sum(self.grades) / len(self.grades)\n\n# Example usage:\nstudent1 = Student(\"Alice\", [85, 90, 78, 92])\nprint(f\"{student1.name}'s average grade: {student1.average_grade():.2f}\")\n",
      "metadata": {
        "trusted": true
      },
      "outputs": [],
      "execution_count": null
    }
  ]
}