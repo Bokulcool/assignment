{
  "nbformat": 4,
  "nbformat_minor": 0,
  "metadata": {
    "colab": {
      "provenance": []
    },
    "kernelspec": {
      "name": "python3",
      "display_name": "Python 3"
    },
    "language_info": {
      "name": "python"
    }
  },
  "cells": [
    {
      "cell_type": "markdown",
      "source": [
        "                     **   Statistics Basics**"
      ],
      "metadata": {
        "id": "NyUfhLQWLWTz"
      }
    },
    {
      "cell_type": "markdown",
      "source": [
        "1. Explain the different types of data (qualitative and quantitative) and provide examples of each. Discuss nominal, ordinal, interval, and ratio scales"
      ],
      "metadata": {
        "id": "cCIYQ1XufzXp"
      }
    },
    {
      "cell_type": "code",
      "source": [
        "Types of Data\n",
        "\n",
        "Data are the facts and figures collected for analysis.\n",
        "They can be broadly classified into two main categories:\n",
        "\n",
        "A. Qualitative Data (Categorical Data)\n",
        "\n",
        "Descriptive or non-numeric in nature.\n",
        "\n",
        "Represent qualities, attributes, or categories.\n",
        "\n",
        "Cannot be used for mathematical calculations.\n",
        "\n",
        "B. Quantitative Data (Numerical Data)\n",
        "\n",
        "Represent numeric values that can be measured or counted.\n",
        "\n",
        "Used for mathematical and statistical analysis.\n",
        "\n",
        "Quantitative data are further divided into:\n",
        "\n",
        "Discrete Data → Countable values (e.g., number of students).\n",
        "\n",
        "Continuous Data → Measurable values that can take decimals\n",
        " 0(e.g., height, temperature)."
      ],
      "metadata": {
        "id": "HTg7BgvLf1te"
      },
      "execution_count": null,
      "outputs": []
    },
    {
      "cell_type": "markdown",
      "source": [
        "2. What are the measures of central tendency, and when should you use each? Discuss the mean, median,\n",
        "and mode with examples and situations where each is appropriate."
      ],
      "metadata": {
        "id": "xNKZ3e6IgUOH"
      }
    },
    {
      "cell_type": "markdown",
      "source": [
        "What are Measures of Central Tendency?\n",
        "\n",
        "Measures of central tendency are statistical values that describe the center or typical value of a dataset.\n",
        "They help summarize an entire dataset with a single representative value.\n",
        "\n",
        "There are three main measures:\n",
        "\n",
        "Mean\n",
        "\n",
        "Median\n",
        "\n",
        "Mode\n",
        "\n",
        "Mean (Arithmetic Average)\n",
        "Definition:\n",
        "\n",
        "The mean is the sum of all data values divided by the number of values.\n",
        "\n",
        "Mean =\n",
        "Sum of all observations/\n",
        "Number of observations\n",
        ""
      ],
      "metadata": {
        "id": "KB2Ckk9Hgql_"
      }
    },
    {
      "cell_type": "markdown",
      "source": [
        "3. Explain the concept of dispersion. How do variance and standard deviation measure the spread of data?"
      ],
      "metadata": {
        "id": "kFLxcpd6hCdb"
      }
    },
    {
      "cell_type": "code",
      "source": [
        "What is Dispersion?\n",
        "Definition:\n",
        "\n",
        "Dispersion refers to the extent to which data values differ from the average (mean) or from each other.\n",
        "It tells us how spread out or scattered the data are in a dataset.\n",
        "Why Dispersion is Important\n",
        "\n",
        "Two datasets can have the same mean but different variability.\n",
        "\n",
        "Dispersion helps us understand:\n",
        "\n",
        "Consistency of data\n",
        "\n",
        "Reliability of the average\n",
        "\n",
        "Degree of risk or uncertainty\n",
        "\n",
        "Common Measures of Dispersion\n",
        "\n",
        "Range -Difference between the maximum and minimum value.\n",
        "\n",
        "Variance -Average of squared deviations from the mean.\n",
        "\n",
        "Standard Deviation (SD) -Square root of variance (measured in same units as data).\n",
        "\n",
        "Interquartile Range (IQR) -Spread of the middle 50% of the data.\n",
        "\n",
        "Variance\n",
        "Definition:\n",
        "Variance measures the average of the squared differences between each data point and the mean.\n",
        "\n",
        "Standard Deviation\n",
        "Definition:\n",
        "\n",
        "The standard deviation (SD) is the square root of variance.\n",
        "It shows how far, on average, each data point is from the mean.\n",
        "\n"
      ],
      "metadata": {
        "id": "gb3GP-ElhLJ4"
      },
      "execution_count": null,
      "outputs": []
    },
    {
      "cell_type": "markdown",
      "source": [
        "4.What is a box plot, and what can it tell you about the distribution of data?"
      ],
      "metadata": {
        "id": "XBA-H-Qeio1c"
      }
    },
    {
      "cell_type": "code",
      "source": [
        "Definition: What is a Box Plot?\n",
        "\n",
        "A box plot is a graphical representation of the distribution of a dataset that\n",
        "shows its spread and skewness using five key summary statistics —\n",
        " called the five-number summary.\n",
        "\n",
        " Five-Number Summary:\n",
        "\n",
        "Minimum – the smallest value (excluding outliers)\n",
        "\n",
        "Q1 (First Quartile) – 25% of the data lie below this value\n",
        "\n",
        "Median (Q2) – middle value (50th percentile)\n",
        "\n",
        "Q3 (Third Quartile) – 75% of the data lie below this value\n",
        "\n",
        "Maximum – the largest value (excluding outliers)\n",
        "\n",
        "Interpreting a Box Plot\n",
        "\n",
        "Let’s break down some key insights you can get:\n",
        "\n",
        "A. Spread of Data\n",
        "\n",
        "A long box → data are more spread out (high variability).\n",
        "\n",
        "A short box → data are clustered (low variability).\n",
        "\n",
        "B. Skewness (Shape of Distribution)\n",
        "\n",
        "Median near center of box → roughly symmetric distribution.\n",
        "\n",
        "Median near bottom of box → right-skewed (longer right whisker).\n",
        "\n",
        "Median near top of box → left-skewed (longer left whisker).\n",
        "\n",
        "C. Outliers\n",
        "\n",
        "Dots beyond whiskers show outliers — values far from the rest of the data."
      ],
      "metadata": {
        "id": "TLlmmQOmixPe"
      },
      "execution_count": null,
      "outputs": []
    },
    {
      "cell_type": "markdown",
      "source": [
        "6. Explain the concept of skewness and its types. How does skewness affect the interpretation of data?"
      ],
      "metadata": {
        "id": "JuKZLXcyjSrz"
      }
    },
    {
      "cell_type": "code",
      "source": [
        "What is Skewness?\n",
        "Definition:\n",
        "\n",
        "Skewness is a measure of the asymmetry (lack of symmetry) of a data distribution around its mean.\n",
        "\n",
        "Symmetric Distribution\n",
        "\n",
        "If data are evenly distributed on both sides of the mean:\n",
        "\n",
        "Mean = Median = Mode\n",
        "\n",
        "Graph is bell-shaped (like the normal distribution)"
      ],
      "metadata": {
        "id": "lgZw3aKNjWaX"
      },
      "execution_count": null,
      "outputs": []
    },
    {
      "cell_type": "markdown",
      "source": [
        "7. What is the interquartile range (IQR), and how is it used to detect outliers?"
      ],
      "metadata": {
        "id": "uCkDYzmeamRg"
      }
    },
    {
      "cell_type": "code",
      "source": [
        "What is the Interquartile Range (IQR)?\n",
        "Definition:\n",
        "\n",
        "The Interquartile Range (IQR) measures the spread of the middle 50% of the data.\n",
        "It is the difference between the third quartile (Q3) and the first quartile (Q1).\n",
        "\n",
        "IQR = Q3-Q1\n",
        "IQR =  Q3-Q1\n",
        "\n",
        "Where:\n",
        "\n",
        "Q1 (First Quartile) → 25% of data lie below this value\n",
        "\n",
        "Q3 (Third Quartile) → 75% of data lie below this value"
      ],
      "metadata": {
        "id": "aJUVScOgaudg"
      },
      "execution_count": null,
      "outputs": []
    },
    {
      "cell_type": "markdown",
      "source": [
        "8.Discuss the conditions under which the binomial distribution is used?"
      ],
      "metadata": {
        "id": "uxz334L28yBD"
      }
    },
    {
      "cell_type": "markdown",
      "source": [
        "The Binomial Distribution describes the probability of getting a certain number of successes in a fixed number of independent trials, where each trial has only two possible outcomes:\n",
        "Conditions for Using the Binomial Distribution\n",
        "\n",
        "To apply the binomial distribution, the following five key conditions must be satisfied:\n",
        "\n",
        "Condition\n",
        "1. Fixed number of trials (n)\n",
        "\n",
        "  Explanation\n",
        "\n",
        "    The experiment is repeated a fixed number of times.\n",
        "\n",
        "  Example\n",
        "\n",
        "  Tossing a coin 10 times (n = 10).\n",
        "\n",
        "2. Two possible outcomes per trial\n",
        "\n",
        "  Explanation\n",
        "\n",
        "  Each trial results in only two outcomes — success or failure.\n",
        "\n",
        "  Example\n",
        "\n",
        "  Each coin toss results in Head (success) or Tail (failure).\n",
        "3. Constant probability of success (p)\n",
        "    Explanation\n",
        "    The probability of success remains the same for every trial.\n",
        "\n",
        "    Example\n",
        "\n",
        "    Probability of getting a head is always 0.5.\n",
        "4. Independent trials\n",
        "    Explanation\n",
        "    The outcome of one trial does not affect another.\n",
        "\n",
        "    Example\n",
        "    One coin toss doesn’t affect the\n",
        "\n",
        "  5. . Discrete random variable (X)\n",
        "\n",
        "    Explanation\n",
        "    The variable counts the number of successes, which must be an integer (0, 1, 2, …, n).\n",
        "\n",
        "    Example\n",
        "    X = number of heads in 10 tosses."
      ],
      "metadata": {
        "id": "0uH7JPD__a8x"
      }
    },
    {
      "cell_type": "markdown",
      "source": [
        "9.Explain the properties of the normal distribution and the empirical rule (68-95-99.7 rule)."
      ],
      "metadata": {
        "id": "hCZ_wJo9A8hh"
      }
    },
    {
      "cell_type": "markdown",
      "source": [
        "1.The Normal Distribution – Overview\n",
        "\n",
        "The Normal Distribution (also called the Gaussian Distribution) is one of the most important probability distributions in statistics.\n",
        "It describes how data values are distributed symmetrically around the mean (average).\n",
        "\n",
        "It is often called the bell curve because of its smooth, bell-shaped appearance.\n",
        "\n",
        "2. Properties of the Normal Distribution\n",
        "Property\tExplanation\n",
        "  1. Shape\tThe curve is bell-shaped and symmetrical about the mean (center).\n",
        "  2. Mean = Median = Mode\t-All three measures of central tendency are equal and located at the center of the curve.\n",
        "  3. Symmetry\tThe left and right halves of the curve are mirror images.\n",
        "  4. Total area under the curve = 1\tRepresents the total probability (100%).\n",
        "  5. Asymptotic\tThe curve approaches (but never touches) the x-axis as it moves away from the mean.\n",
        "  6. Defined by two parameters\tThe distribution is completely defined by its mean (μ) and standard deviation (σ).\n",
        "  7. Data clustering\tMost values lie close to the mean, with fewer values in the tails.\n",
        "  8. Probability interpretation\tThe area under the curve between two points gives the probability of the variable falling in that range.\n",
        "\n",
        "3. The Empirical Rule (68-95-99.7 Rule)\n",
        "\n",
        "The Empirical Rule describes how data are distributed in a normal distribution in terms of standard deviations from the mean (μ).\n",
        "\n",
        "4.Importance of the Empirical Rule\n",
        "\n",
        "Helps estimate probabilities quickly without detailed calculations.\n",
        "\n",
        "Useful for detecting outliers — values beyond 3σ are rare.\n",
        "\n",
        "Commonly used in quality control, finance, and scientific research to understand data variation.\n"
      ],
      "metadata": {
        "id": "Q6dWQgTiBQ5Q"
      }
    },
    {
      "cell_type": "markdown",
      "source": [
        "10. Provide a real-life example of a Poisson process and calculate the probability for a specific event"
      ],
      "metadata": {
        "id": "VUi9UAKoDWnn"
      }
    },
    {
      "cell_type": "markdown",
      "source": [
        "What Is a Poisson Process?\n",
        "\n",
        "A Poisson process models the number of times an event occurs in a fixed interval of time or space when:\n",
        "\n",
        "Events occur independently of each other.\n",
        "\n",
        "The average rate (λ) of occurrence is constant.\n",
        "\n",
        "Two or more events cannot occur at exactly the same time.\n",
        "\n",
        "The probability of more than one event in a very small interval is nearly zero.\n",
        "\n",
        "Real-Life Example\n",
        "\n",
        "A hospital emergency room receives an average of 4 patients per hour.\n",
        "What is the probability that exactly 6 patients will arrive in the next hour?\n",
        "\n",
        "Poisson Probability Formula\n",
        "P(X=k)=e*-λ* λk/k!\n",
        "\t​\n",
        "\n",
        "\t​\n"
      ],
      "metadata": {
        "id": "-SZcGpyADaA3"
      }
    },
    {
      "cell_type": "markdown",
      "source": [
        "11. Explain what a random variable is and differentiate between discrete and continuous random variables?"
      ],
      "metadata": {
        "id": "7Mn4xkhrFtfT"
      }
    },
    {
      "cell_type": "markdown",
      "source": [
        "What Is a Random Variable?\n",
        "\n",
        "A random variable is a variable whose possible values are numerical outcomes of a random experiment.\n",
        "It assigns a real number to each outcome in a sample space.\n",
        "\n",
        "Types of Random Variables\n",
        "\n",
        "There are two main types of random variables:\n",
        "\n",
        "Type\n",
        "1. Discrete Random Variable\n",
        "\n",
        "  Description\n",
        "\n",
        "  Takes on countable values (finite or countably infinite).\n",
        "\n",
        "  Examples\n",
        "\n",
        "  Number of students in a class, number of heads in 5 coin tosses.\n",
        "\n",
        "\n",
        "2. Continuous Random Variable\n",
        "\n",
        "   Description\n",
        "\n",
        "  Takes on uncountably infinite values — any value within a range or interval.\n",
        "  \n",
        "  Examples\n",
        "\n",
        "\tHeight of students, time taken to run a race, temperature.\n",
        "\n",
        "  3. Discrete Random Variables\n",
        "      Definition:\n",
        "\n",
        "    A discrete random variable can take only distinct, separate values.\n",
        "\n",
        "  4.Continuous Random Variables\n",
        "\n",
        "  A continuous random variable can take any real value within a certain range or interval.\n",
        "\n",
        "  Key Features:\n",
        "\n",
        "  Values are uncountable (infinite possibilities).\n",
        "\n",
        "  Usually associated with measurement.\n",
        "\n",
        "  Probability is described by a probability density function (PDF).\n",
        "\n",
        "  The probability of any exact value is zero — instead, we find probabilities over intervals."
      ],
      "metadata": {
        "id": "4IBVo_bEGGGn"
      }
    },
    {
      "cell_type": "markdown",
      "source": [
        "12.Provide an example dataset, calculate both covariance and correlation, and interpret the results."
      ],
      "metadata": {
        "id": "78Ypk91mJY1E"
      }
    },
    {
      "cell_type": "markdown",
      "source": [
        "Example Dataset\n",
        "\n",
        "Let’s consider the relationship between hours studied (X) and exam scores (Y) for 5 students:\n",
        "\n",
        "Student\t  Study Hours (X)\t  Exam Score (Y)\n",
        "1\t        2\t                  40\n",
        "2\t        4\t                  50\n",
        "3       \t6                 \t65\n",
        "4\t        8                 \t80\n",
        "5\t        10\t                85\n",
        "\n",
        "\n",
        "Step 1 – Calculate the Means\n",
        "X ˉ  =(2+4+6+8+10)/5=6\n",
        "Y ˉ  =(40+50+65+80+85)/5=64\n",
        "\n",
        "Step 2 – Compute Covariance\n",
        "Formula:\n",
        "\"Cov\"(X,Y)=(∑(X_i-X ˉ)(Y_i-Y ˉ))/(n-1)\n",
        "\n",
        "X\tY\tX−X̄\tY−Ȳ\t(X−X̄)(Y−Ȳ)\n",
        "2\t40\t-4\t-24\t96\n",
        "4\t50\t-2\t-14\t28\n",
        "6\t65\t0\t1\t0\n",
        "8\t80\t2\t16\t32\n",
        "10\t85\t4\t21\t84\n",
        "∑(X-X ˉ)(Y-Y ˉ)=96+28+0+32+84=240\n",
        "\"Cov\"(X,Y)=240/(5-1)=240/4=60\n",
        "\n",
        " Covariance = 60\n",
        "\n",
        "Step 3 – Compute Correlation\n",
        "Formula:\n",
        "r=(\"Cov\" (X,Y))/(s_X×s_Y )\n",
        "\n",
        "Find Standard Deviations:\n",
        "s_X=√((∑(X_i-X ˉ)^2)/(n-1))=√(((-4)^2+(-2)^2+0^2+2^2+4^2)/4)=√10=3.162\n",
        "s_Y=√((∑(Y_i-Y ˉ)^2)/(n-1))=√(((-24)^2+(-14)^2+1^2+16^2+21^2)/4)=√345=18.574\n",
        "\n",
        "Now,\n",
        "r=60/((3.162)(18.574))=60/58.64=1.02≈1.00\n",
        "\n",
        "Correlation (r) ≈ 1.00\n",
        "\n",
        "Step 4 – Interpretation\n",
        "Measure   \tValue\t              Meaning\n",
        "Covariance\t60\t                \n",
        "                                Positive — as study hours increase, exam    scores also increase.\n",
        "Correlation\t1.00\t          \n",
        "                              Almost perfect positive linear relationship between study hours and exam scores.\n",
        "\n",
        "\n"
      ],
      "metadata": {
        "id": "mz8RLPf0Jgo0"
      }
    }
  ]
}