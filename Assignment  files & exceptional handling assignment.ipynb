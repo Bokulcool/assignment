{
  "nbformat": 4,
  "nbformat_minor": 0,
  "metadata": {
    "colab": {
      "provenance": []
    },
    "kernelspec": {
      "name": "python3",
      "display_name": "Python 3"
    },
    "language_info": {
      "name": "python"
    }
  },
  "cells": [
    {
      "cell_type": "code",
      "execution_count": null,
      "metadata": {
        "id": "_rc6hEJWvgoq"
      },
      "outputs": [],
      "source": []
    },
    {
      "cell_type": "markdown",
      "source": [
        "1. What is the difference between interpreted and compiled languages?\n",
        "\n",
        "\n",
        "---1. Compiled Languages\n",
        "\n",
        "The code is translated (compiled) all at once into machine code before execution.\n",
        "\n",
        "The compiler creates an executable file (like .exe) that can be run directly by the computer.\n",
        "Process:\n",
        "Source Code  →  Compiler  →  Machine Code  →  Execution\n",
        "\n",
        "Examples: C, C++, Go, Rust\n",
        "\n",
        "2. Interpreted Languages\n",
        "\n",
        "The code is translated line by line at runtime by an interpreter.\n",
        "\n",
        "No separate executable file is created.\n",
        "\n",
        "Examples: Python, JavaScript, Ruby, PHP\n",
        "\n",
        "Process:\n",
        "\n",
        "Source Code  →  Interpreter  →  Execution\n",
        "\n"
      ],
      "metadata": {
        "id": "wBbtc5XjvjYj"
      }
    },
    {
      "cell_type": "markdown",
      "source": [
        "2. What is exception handling in Python?\n",
        "\n",
        "\n",
        "---Exception handling in Python is a mechanism that allows you to detect and handle errors that occur while a program is running — so that your program doesn’t crash unexpectedly.\n",
        "\n",
        "It helps make your code more reliable and user-friendl\n",
        "\n"
      ],
      "metadata": {
        "id": "WBS8uLvawSBR"
      }
    },
    {
      "cell_type": "markdown",
      "source": [],
      "metadata": {
        "id": "PMWGSftox5VC"
      }
    },
    {
      "cell_type": "markdown",
      "source": [
        "3.What is the purpose of the finally block in exception handling?\n",
        "\n",
        "\n",
        "--- The purpose of the finally block in exception handling is to specify a block of code that will always execute, whether an exception occurs or not.\n",
        "\n",
        "It is mainly used for cleanup operations, such as closing files, releasing system resources, or disconnecting from databases — actions that must be done no matter what happens in the try or except blocks.\n",
        "\n",
        "Example\n",
        "\n",
        "try:\n",
        "    file = open(\"data.txt\", \"r\")\n",
        "\n",
        "    content = file.read()\n",
        "    print(content)\n",
        "except FileNotFoundError:\n",
        "\n",
        "    print(\"File not found!\")\n",
        "finally:\n",
        "\n",
        "    file.close()\n",
        "    print(\"File closed successfully.\")\n",
        "\n",
        "\n",
        "\n"
      ],
      "metadata": {
        "id": "nHcFHGl2wzbJ"
      }
    },
    {
      "cell_type": "markdown",
      "source": [
        "4.What is logging in Python?\n",
        "---\n",
        "Logging in Python is a way to record (log) messages about what your program is\n",
        "doing while it runs — such as errors, warnings, or other important events.\n",
        "\n",
        "It helps you track the flow of your program and debug issues without interrupting normal execution (unlike print() statements)."
      ],
      "metadata": {
        "id": "Wvl98iqGx91S"
      }
    },
    {
      "cell_type": "markdown",
      "source": [
        "5. What is the significance of the __del__ method in Python?\n",
        "\n",
        "---\n",
        "The __del__ method in Python is a destructor method — it is called automatically when an object is about to be destroyed (i.e., when it is no longer needed and is removed from memory by the garbage collector).\n",
        "\n",
        "It allows you to define cleanup actions that should happen before the object is deleted, such as closing files or releasing resources.\n"
      ],
      "metadata": {
        "id": "AD0Be_F1yej7"
      }
    },
    {
      "cell_type": "markdown",
      "source": [
        "6. What is the difference between import and from ... import in Python?\n",
        "\n",
        "---The difference between import and from ... import in Python lies in how you access the functions, classes, or variables from a module.\n",
        "import Statement\n",
        "\n",
        "When you use import, you bring in the entire module, and you must use the module name to access its contents.\n",
        "\n",
        "Syntax:\n",
        "\n",
        "import module_name\n",
        "\n",
        "Example:\n",
        "\n",
        "import math\n",
        "\n",
        "print(math.sqrt(16))\n",
        "\n",
        "2. from ... import Statement\n",
        "\n",
        "When you use from ... import, you import specific functions, classes, or variables directly — so you can use them without the module name.\n",
        "\n",
        "Syntax:\n",
        "\n",
        "from module_name import function_name\n",
        "\n",
        "Example:\n",
        "\n",
        "from math import sqrt\n",
        "\n",
        "print(sqrt(16))\n",
        "\n"
      ],
      "metadata": {
        "id": "wRIEXihnywCQ"
      }
    },
    {
      "cell_type": "markdown",
      "source": [
        "7. How can you handle multiple exceptions in Python0\n",
        "\n",
        "---\n",
        "\n",
        "can handle multiple exceptions in Python using several methods — depending on how you want to manage different types of errors.\n",
        "1. Using Multiple except Blocks\n",
        "\n",
        "You can write separate except blocks for different types of exceptions.\n",
        "Each block handles a specific error.\n",
        "2. Handling Multiple Exceptions in One Block\n",
        "\n",
        "If you want to handle multiple exceptions in the same way, you can group them in a tuple.\n",
        "\n",
        "3. Catching All Exceptions (Generic Handler)\n",
        "\n",
        "You can use a general except Exception: block to catch any kind of exception.\n",
        "\n",
        "4. Using else and finally with Multiple Exceptions\n",
        "\n",
        "You can still use else (if no exception) and finally (always runs):\n",
        "\n"
      ],
      "metadata": {
        "id": "idSiDyxQzUuT"
      }
    },
    {
      "cell_type": "markdown",
      "source": [
        "8.What is the purpose of the with statement when handling files in Python?\n",
        "\n",
        "\n",
        "---\n",
        "The with statement in Python is used to simplify file handling and ensure that resources (like files) are properly closed automatically, even if an error occurs.\n",
        "\n",
        "It is mainly used with context managers, such as when working with files.\n",
        "\n",
        "Purpose of the with statement\n",
        "\n",
        "It automatically opens and closes the file for you.\n",
        "\n",
        "It helps prevent resource leaks (like leaving files open).\n",
        "\n",
        "It makes the code cleaner and safer than using open() and close() manually.\n"
      ],
      "metadata": {
        "id": "KKdCMQaBz5u8"
      }
    },
    {
      "cell_type": "markdown",
      "source": [
        "9.What is the difference between multithreading and multiprocessing?\n",
        "\n",
        "\n",
        "---\n",
        "The difference between multithreading and multiprocessing in Python lies in how tasks are executed concurrently — that is, how your program performs multiple operations at the same time.\n",
        "1. Multithreading\n",
        "\n",
        "Uses multiple threads within the same process.\n",
        "\n",
        "All threads share the same memory space.\n",
        "\n",
        "Best suited for I/O-bound tasks (like reading files, network requests, or waiting for user input).\n",
        "\n",
        "2. Multiprocessing\n",
        "\n",
        "Uses multiple processes, each with its own memory space.\n",
        "\n",
        "Each process runs independently — so multiple CPU cores can be used at once.\n",
        "\n",
        "Best suited for CPU-bound tasks (heavy computations, data analysis, etc.)."
      ],
      "metadata": {
        "id": "rUtfL8H60eYS"
      }
    },
    {
      "cell_type": "markdown",
      "source": [
        "10.What are the advantages of using logging in a program?\n",
        "\n",
        "\n",
        "---\n",
        "Using logging in a Python program provides several important advantages — especially for debugging, monitoring, and maintaining code in real-world applications.\n",
        "\n",
        "1. Helps in Debugging\n",
        "\n",
        "Logging records what happens in your program while it runs.\n",
        "If something goes wrong, you can check the log file to find the cause of the error.\n",
        "\n",
        "2. Keeps a Record of Program Activity\n",
        "\n",
        "Logs act as a history of events — showing what your program did and when.\n",
        "Useful for auditing, troubleshooting, or performance analysis.\n",
        "\n",
        "3. Non-Intrusive (Better than print statements)\n",
        "\n",
        "Unlike print(), logging doesn’t clutter the console output.\n",
        "You can save logs to a file or control how much information is shown.\n",
        "\n",
        "4. Different Log Levels\n",
        "\n",
        "Logging provides levels like DEBUG, INFO, WARNING, ERROR, and CRITICAL,\n",
        "allowing you to filter messages based on importance.\n",
        "\n",
        "5. Easy to Control and Configure\n",
        "\n",
        "You can easily:\n",
        "\n",
        "Change where logs go (console, file, remote server)\n",
        "\n",
        "Format log messages\n",
        "\n",
        "Adjust log levels (e.g., show only warnings and errors)\n",
        "\n",
        "6. Useful in Large Applications\n",
        "\n",
        "In big projects, multiple developers or modules can log events consistently — making it easy to understand system behavior as a whole.\n",
        "\n",
        "7. Works Even After Crashes\n",
        "\n",
        "If your program crashes, logs can show what happened just before the failure, helping identify and fix the issue faster.\n"
      ],
      "metadata": {
        "id": "iTXVIPsf1xG9"
      }
    },
    {
      "cell_type": "markdown",
      "source": [
        "11.What is memory management in Python?\n",
        "\n",
        "---\n",
        "Memory management in Python refers to the process of allocating and freeing memory automatically while a program runs — so that objects, variables, and data are stored efficiently and unused memory is reclaimed when no longer needed.\n",
        "\n",
        "Python does this automatically, so you usually don’t need to manage memory manually (like in C or C++).\n",
        "\n",
        "Key Features of Memory Management in Python\n",
        "1. Automatic Garbage Collection\n",
        "\n",
        "Python has a built-in garbage collector that automatically deletes unused objects to free up memory.\n",
        "\n",
        "When an object is no longer referenced, it is marked for deletion and removed.\n",
        "\n",
        "2. Reference Counting\n",
        "\n",
        "Python keeps track of how many references (variables) point to an object.\n",
        "\n",
        "When the reference count becomes zero, Python automatically deletes the object.\n",
        "\n",
        "3. Garbage Collector Module\n",
        "\n",
        "The gc (garbage collector) module manages memory automatically.\n",
        "\n",
        "You can even manually control it if needed\n",
        "\n",
        "4. Private Heap Space\n",
        "\n",
        "All Python objects and data structures are stored in a private heap (memory area managed by the interpreter).\n",
        "\n",
        "The Python memory manager allocates and manages this heap.\n",
        "\n"
      ],
      "metadata": {
        "id": "K83O1O7a2NMK"
      }
    },
    {
      "cell_type": "markdown",
      "source": [
        "12.What are the basic steps involved in exception handling in Python?\n",
        "\n",
        "\n",
        "---\n",
        "Steps in Exception Handling\n",
        "Step 1: Use a try block\n",
        "\n",
        "Place the code that might cause an error inside a try block.\n",
        "\n",
        "Python will “try” to run this code.\n",
        "\n",
        "try:\n",
        "    \n",
        "    x = int(input(\"Enter a number: \")\n",
        "\n",
        "    result = 10 / x\n",
        "\n",
        "If an error occurs, Python jumps to the except block\n",
        "\n",
        "\n",
        "Step 2: Handle the error with an except block\n",
        "\n",
        "The except block is used to catch and handle specific exceptions.\n",
        "\n",
        "You can write multiple except blocks for different types of errors.\n",
        "\n",
        "except ZeroDivisionError:\n",
        "\n",
        "    print(\"Error: Cannot divide by zero.\")\n",
        "\n",
        "except ValueError:\n",
        "\n",
        "    print(\"Error: Invalid input. Please enter a number.\")\n",
        "\n",
        "Step 3: Use else block (optional)\n",
        "\n",
        "The else block runs only if no exception occurs in the try block.\n",
        "\n",
        "Step 4: Use finally block (optional)\n",
        "\n",
        "The finally block runs no matter what happens — whether there’s an error or not.\n",
        "\n",
        "It is often used for cleanup tasks like closing files or releasing resources.\n",
        "\n",
        "finally:\n",
        "    print(\"Program execution completed.\")\n"
      ],
      "metadata": {
        "id": "llN5NQHC2ohS"
      }
    },
    {
      "cell_type": "markdown",
      "source": [
        "13.Why is memory management important in Python?\n",
        "\n",
        "\n",
        "---\n",
        "Memory management is important in Python because it ensures that the program uses the computer’s memory efficiently, safely, and automatically, preventing problems like memory leaks and performance issues.\n",
        "\n",
        "1. To Use Memory Efficiently\n",
        "\n",
        "Every variable, list, or object in Python takes up space in memory.\n",
        "\n",
        "Proper memory management ensures that only the necessary amount of memory is used.\n",
        "\n",
        "Python’s memory manager allocates and reuses memory efficiently.\n",
        "\n",
        "To Automatically Free Unused Memory (Garbage Collection)\n",
        "\n",
        "Python automatically removes objects that are no longer in use through garbage collection.\n",
        "\n",
        "This prevents memory leaks — situations where memory is not released after use.\n",
        "\n",
        "3. To Improve Program Performance\n",
        "\n",
        "Efficient memory management reduces unnecessary memory usage, making programs run faster and more smoothly.\n",
        "\n",
        "It avoids overloading the system memory, especially when handling large data structures.\n",
        "\n",
        "4. To Ensure Safety and Stability\n",
        "\n",
        "Automatic memory handling helps avoid programming errors like:\n",
        "\n",
        "Accessing freed memory\n",
        "\n",
        "Memory corruption\n",
        "\n",
        "These are common issues in lower-level languages like C or C++, but Python prevents them through its memory management system.\n",
        "\n",
        "5. To Simplify Programming\n",
        "\n",
        "Python developers don’t need to manually allocate or free memory, thanks to:\n",
        "\n",
        "Reference counting\n",
        "\n",
        "Garbage collection\n",
        "\n",
        "Private heap and memory manager\n",
        "\n",
        "This makes coding easier and safer, especially for beginners.\n"
      ],
      "metadata": {
        "id": "wbVtnCy63xlk"
      }
    },
    {
      "cell_type": "markdown",
      "source": [
        "14.What is the role of try and except in exception handling?\n",
        "\n",
        "\n",
        "---\n",
        "The try and except blocks are the core components of exception handling in Python.\n",
        "They work together to detect and handle errors that occur while a program is running — preventing the program from crashing unexpectedly.\n",
        "\n",
        "**Role of try Block**\n",
        "\n",
        "The try block contains the code that might cause an exception (error).\n",
        "\n",
        "Python “tries” to execute the code inside this block.\n",
        "\n",
        "If an error occurs, Python stops executing the try block and jumps to the matching except block\n",
        "\n",
        "**Role of except Block**\n",
        "\n",
        "The except block handles the error that occurs in the try block.\n",
        "\n",
        "You can handle specific types of exceptions or use a general handler for all exceptions.\n",
        "\n",
        "This prevents the program from crashing and lets you show a meaningful message.\n"
      ],
      "metadata": {
        "id": "WjQ_HS8u4LUo"
      }
    },
    {
      "cell_type": "markdown",
      "source": [
        "15.How does Python's garbage collection system work?\n",
        "\n",
        "\n",
        "---\n",
        "Python’s garbage collection system is an automatic memory management mechanism that frees up memory by removing objects that are no longer in use — so programmers don’t need to do it manually.\n",
        "\n",
        "1. What Is Garbage Collection?\n",
        "\n",
        "When you create variables or objects in Python, they occupy memory (RAM).\n",
        "Once those objects are no longer needed, Python’s garbage collector automatically removes them to reclaim memory.\n",
        "\n",
        " How It Works (Step-by-Step)\n",
        "Step 1: Reference Counting\n",
        "\n",
        "Every object in Python keeps track of how many references (pointers) point to it.\n",
        "\n",
        "This count increases when a new reference is created and decreases when a reference is deleted.\n",
        "\n",
        "Step 2: Handling Circular References\n",
        "\n",
        "Sometimes, objects reference each other, forming a cycle.\n",
        "\n",
        "Step 3: Automatic Garbage Collection\n",
        "\n",
        "Python’s gc (garbage collector) module runs automatically in the background.\n",
        "\n",
        "It periodically checks for unreachable objects (those with no active references) and deletes them.\n",
        "\n"
      ],
      "metadata": {
        "id": "6aMutEmC4g1h"
      }
    },
    {
      "cell_type": "markdown",
      "source": [
        "16.What is the purpose of the else block in exception handling?\n",
        "\n",
        "The purpose of the else block in exception handling is to execute code only when no exception occurs in the try block.\n",
        "\n",
        "It helps separate the normal execution code from the error-handling code, making your program cleaner and easier to understand.\n",
        "How It Works\n",
        "\n",
        "The try block contains code that might raise an exception.\n",
        "\n",
        "The except block handles the error if it occurs.\n",
        "\n",
        "The else block runs only if no exception was raised inside the try block."
      ],
      "metadata": {
        "id": "AZJ6-iJo5FYF"
      }
    },
    {
      "cell_type": "markdown",
      "source": [
        "17.What are the common logging levels in Python?\n",
        "\n",
        "\n",
        "---\n",
        "In Python, logging levels are used to classify the severity or importance of messages that a program logs.\n",
        "They help developers control what kind of information gets displayed or saved — for example, debugging details, warnings, or critical errors.\n",
        "\n",
        "\n"
      ],
      "metadata": {
        "id": "2P296HfU5pQR"
      }
    },
    {
      "cell_type": "markdown",
      "source": [
        "18.What is the difference between os.fork() and multiprocessing in Python?\n",
        "\n",
        "\n",
        "---\n",
        "The difference between os.fork() and multiprocessing in Python lies mainly in how they create and manage processes, their platform compatibility, and ease of use.\n",
        "\n",
        "1. os.fork()\n",
        "\n",
        "os.fork() is a low-level system call that creates a child process by duplicating the current process.\n",
        "\n",
        "It is part of the os module in Python.\n",
        "\n",
        "🔹 How It Works:\n",
        "\n",
        "After calling os.fork(), the program splits into two processes:\n",
        "\n",
        "   The parent process (original)\n",
        "\n",
        "   The child process (copy)\n",
        "\n",
        "Both continue executing the same code, but os.fork() returns:\n",
        "\n",
        " 0 to the child process\n",
        "\n",
        "  child PID (process ID) to the parent process\n",
        "\n",
        "  multiprocessing Module\n",
        "\n",
        "The multiprocessing module is a high-level Python library that allows you to create and manage multiple processes easily and safely.\n",
        "\n",
        "It works across all platforms\n"
      ],
      "metadata": {
        "id": "Zxawag2_6AbK"
      }
    },
    {
      "cell_type": "markdown",
      "source": [
        "19.What is the importance of closing a file in Python?\n",
        "\n",
        "\n",
        "---\n",
        "Closing a file in Python is very important because it ensures that all the data is properly saved, resources are released, and the file is no longer locked or in use.\n",
        "\n",
        "1. Ensures Data Is Saved (Flushed to Disk)\n",
        "\n",
        "When you write to a file in Python, the data is first stored in a buffer (temporary memory).\n",
        "If you don’t close the file, some data may remain in the buffer and not actually get written to the file.\n",
        "\n",
        "2. Frees Up System Resources\n",
        "\n",
        "Every open file uses system resources (like file handles).\n",
        "\n",
        "If you don’t close files, these resources can run out — especially in large programs that open many files.\n",
        "\n",
        "3. Prevents File Corruption or Locking\n",
        "\n",
        "On some systems, a file can be locked while it’s open for writing.\n",
        "\n",
        "If it’s not closed properly, other programs or parts of your code can’t access it.\n",
        "\n",
        "This can lead to file corruption or access errors.\n",
        "\n",
        "4. Ensures Proper Cleanup\n",
        "\n",
        "Closing files helps Python clean up resources neatly.\n",
        "\n",
        "It’s a good practice that makes your code more reliable and professional.\n",
        "\n"
      ],
      "metadata": {
        "id": "Y9eS0f-q6SqD"
      }
    },
    {
      "cell_type": "markdown",
      "source": [
        "20.What is the difference between file.read() and file.readline() in Python?\n",
        "\n",
        "---\n",
        "1. file.read()\n",
        "\n",
        "🔹 Purpose:\n",
        "\n",
        "Reads the entire file (or a specified number of characters) as one string.\n",
        "\n",
        "🔹 Syntax:\n",
        "\n",
        "file.read(size)\n",
        "\n",
        "\n",
        "If size is not given, it reads the entire file.\n",
        "\n",
        "If size is specified, it reads that many characters (or bytes).\n",
        "\n",
        "🔹 Example:\n",
        "\n",
        "f = open(\"example.txt\", \"r\")\n",
        "\n",
        "content = f.read()\n",
        "\n",
        "print(content)\n",
        "\n",
        "f.close()\n",
        "\n",
        "2. file.readline()\n",
        "\n",
        "🔹 Purpose:\n",
        "\n",
        "Reads only one line from the file at a time (up to a newline \\n).\n",
        "\n",
        "file.readline(size)\n",
        "\n",
        "🔹 Purpose:\n",
        "\n",
        "Reads only one line from the file at a time (up to a newline \\n).\n",
        "\n",
        "🔹 Syntax:\n",
        "file.readline(size)\n",
        "\n",
        "If size is not given, it reads the next line completely.\n",
        "\n",
        "If size is given, it reads up to that many characters from the current line.\n"
      ],
      "metadata": {
        "id": "WF6OCGs17PvM"
      }
    },
    {
      "cell_type": "markdown",
      "source": [
        "21.What is the logging module in Python used for?\n",
        "\n",
        "---\n",
        "\n",
        "The logging module in Python is used for tracking events that happen while a program runs — it helps developers record messages about what the program is doing, detect problems, and debug issues efficiently."
      ],
      "metadata": {
        "id": "b3_P18aF8TCL"
      }
    },
    {
      "cell_type": "markdown",
      "source": [
        "22.What is the os module in Python used for in file handling?\n",
        "\n",
        "\n",
        "---\n",
        "The os module in Python provides functions to interact with the operating system, and it is especially useful in file handling for performing operations on files and directories — such as creating, deleting, renaming, or navigating through folders.\n",
        "\n",
        "Main Uses of the os Module in File Handling\n",
        "\n",
        "\n",
        "Here are the most common file-handling tasks you can perform using os\n",
        "1. Check if a File or Folder ExistS\n",
        "2. Create and Remove Directories\n",
        "os.mkdir(\"NewFolder\")        # Create a new directory\n",
        "os.rmdir(\"NewFolder\")        # Remove an empty directory\n",
        "os.makedirs(\"path/to/folder\")  # Create nested folders\n",
        "3. Rename or Delete Files\n",
        "os.rename(\"old_name.txt\", \"new_name.txt\")  # Rename a file\n",
        "os.remove(\"old_file.txt\")                  # Delete a file\n",
        "\n",
        "4. List Files and Folders\n",
        "files = os.listdir(\".\")  # List all files and folders in current directory\n",
        "print(files)\n",
        "\n",
        "5. Get or Change the Current Working Directory\n",
        "print(os.getcwd())        # Get current directory\n",
        "os.chdir(\"Documents\")     # Change to another directory\n",
        "print(os.getcwd())        # Verify new location\n",
        "\n",
        "6. Join and Split File Paths (Using os.path)\n",
        "path = os.path.join(\"folder\", \"file.txt\")\n",
        "print(path)  # Outputs: folder/file.txt  (or folder\\file.txt on Windows)\n",
        "\n",
        "print(os.path.basename(path))  # file.txt\n",
        "print(os.path.dirname(path))   # folder"
      ],
      "metadata": {
        "id": "LI9oHT1b9not"
      }
    },
    {
      "cell_type": "markdown",
      "source": [
        "23.What are the challenges associated with memory management in Python?\n",
        "\n",
        "---\n",
        "Memory management in Python is mostly automatic, thanks to its built-in garbage collector and reference counting system.\n",
        "However, there are still several challenges and issues developers need to be aware of to keep programs efficient and prevent memory leaks.\n",
        ". Memory Leaks (Unreleased Memory)\n",
        "\n",
        "Even though Python has automatic garbage collection, memory leaks can occur when:\n",
        "\n",
        "Objects are referenced unintentionally, preventing garbage collection.\n",
        "\n",
        "Global variables or circular references keep objects alive unnecessarily.\n",
        "\n",
        "Example:\n",
        "\n",
        "a = []\n",
        "b = [a]\n",
        "a.append(b)  # Circular reference\n",
        "\n",
        "\n",
        "Here, both a and b refer to each other, so the garbage collector cannot easily free them.\n",
        "\n",
        " 2. Circular References\n",
        "\n",
        "A circular reference happens when two or more objects refer to each other, creating a loop that prevents automatic cleanup.\n",
        "Python’s garbage collector can detect some cycles, but it doesn’t always handle them perfectly — especially when __del__ methods are defined.\n",
        "\n",
        " 3. High Memory Usage with Large Data\n",
        "\n",
        "When handling:\n",
        "\n",
        "Large lists or dictionaries\n",
        "\n",
        "Big NumPy arrays or pandas DataFrames\n",
        "\n",
        "Python can consume a lot of memory, leading to performance issues or even crashes if not managed efficiently.\n",
        "\n",
        " 4. Fragmentation of Memory\n",
        "\n",
        "Python’s memory allocator (called pymalloc) manages small objects efficiently, but when objects of various sizes are repeatedly created and deleted, memory fragmentation can occur — meaning free memory gets scattered and less usable.\n",
        "\n",
        "5. Objects Not Being Freed Immediately\n",
        "\n",
        "Due to reference counting, an object is only deleted when its reference count drops to zero.\n",
        "If references are held longer than necessary, Python won’t free that memory, even if you’re done using the object.\n",
        "\n",
        "6. Improper Use of Global or Static Variables\n",
        "\n",
        "Using too many global variables or storing large objects in global scope keeps them in memory for the entire program’s lifetime — wasting space and slowing performance.\n",
        " 7. Memory Management in Multi-threading\n",
        "\n",
        "Because of Python’s Global Interpreter Lock (GIL), true parallel execution of threads is limited. Threads may share memory, but this can make tracking and freeing memory more complex.\n"
      ],
      "metadata": {
        "id": "D9rmdlFe-JhG"
      }
    },
    {
      "cell_type": "markdown",
      "source": [
        "24.How do you raise an exception manually in Python?\n",
        "\n",
        "\n",
        "---\n",
        "\n",
        "can raise an exception manually in Python using the raise keyword.\n",
        "\n",
        "This allows you to trigger an error intentionally when a certain condition occurs — for example, invalid input, missing data, or unexpected behavior.\n",
        "\n",
        "Example 1: Raising a Built-in Exception\n",
        "x = -5\n",
        "if x < 0:\n",
        "    raise ValueError(\"Number cannot be negative!\")\n",
        "\n",
        "Output:\n",
        "\n",
        "ValueError: Number cannot be negative!\n",
        "\n",
        " Here, we manually raised a ValueError to stop execution when x is negative\n",
        "\n",
        " Example 2: Raising a Custom Exception\n",
        "\n",
        "You can also create and raise your own exception type:\n",
        "\n",
        "class InvalidAgeError(Exception):\n",
        "    pass\n",
        "\n",
        "age = -2\n",
        "if age < 0:\n",
        "    raise InvalidAgeError(\"Age must be a positive number!\")\n",
        "\n",
        "\n",
        "Output:\n",
        "\n",
        "__main__.InvalidAgeError: Age must be a positive number!\n",
        "\n",
        " Example 3: Re-raising an Exception\n",
        "\n",
        "You can use raise without arguments inside an except block to re-raise the current exception.\n",
        "\n",
        "try:\n",
        "    x = int(\"abc\")\n",
        "except ValueError:\n",
        "    print(\"Error occurred!\")\n",
        "    raise  # Re-raises the same ValueError\n",
        "\n"
      ],
      "metadata": {
        "id": "GXG3dxbO-b9E"
      }
    },
    {
      "cell_type": "markdown",
      "source": [
        "25.Why is it important to use multithreading in certain applications?\n",
        "\n",
        "---\n",
        "\n",
        "Multithreading is important in certain applications because it allows a program to perform multiple tasks at the same time — improving performance, responsiveness, and resource utilization.\n",
        "\n",
        "What is Multithreading?\n",
        "\n",
        "Multithreading means running multiple threads (smaller units of a program) concurrently within the same process.\n",
        "\n",
        "Each thread runs independently but shares the same memory space — making communication and coordination easier.\n",
        "\n",
        "1. Improves Performance for I/O-bound Tasks\n",
        "\n",
        "When a program performs tasks like:\n",
        "\n",
        "Reading/writing files\n",
        "\n",
        "Downloading data from the internet\n",
        "\n",
        "Waiting for user input\n",
        "\n",
        "Accessing databases\n",
        "\n",
        "…it spends time waiting.\n",
        "Multithreading allows other tasks to run while one thread is waiting, making the program faster and more efficient.\n",
        "\n",
        "Downloading multiple files simultaneously instead of one after another.\n",
        "\n",
        "2. Increases Responsiveness\n",
        "\n",
        "In GUI (Graphical User Interface) applications, if one thread performs a long operation (like file processing), the app may freeze.\n",
        "\n",
        "Using multithreading keeps the interface responsive because one thread handles the user interface while another handles background tasks.\n",
        "\n",
        "In a text editor, you can keep typing while the program auto-saves your work.\n",
        "\n",
        " 3. Better Resource Utilization\n",
        "\n",
        "Multithreading allows better use of CPU idle time by running multiple operations concurrently.\n",
        "While one thread waits for I/O, another thread can use the CPU effectively.\n",
        "\n",
        " 4. Faster Execution (in I/O-Bound Programs)\n",
        "\n",
        "Although Python’s GIL (Global Interpreter Lock) limits true parallelism for CPU-bound tasks, multithreading still improves performance for I/O-heavy tasks like:\n",
        "\n",
        "Web scraping\n",
        "\n",
        "Network communication\n",
        "\n",
        "File I/O operations\n",
        "\n",
        "5. Simplifies Program Design\n",
        "\n",
        "Some problems (like a chat server or web crawler) naturally involve multiple simultaneous activities.\n",
        "Using threads makes the design simpler and more intuitive compared to managing everything in a single sequence."
      ],
      "metadata": {
        "id": "tMk4dOjq-3k7"
      }
    },
    {
      "cell_type": "code",
      "source": [
        "Practicle Question"
      ],
      "metadata": {
        "id": "s7ZfOwT8Jf6W"
      },
      "execution_count": null,
      "outputs": []
    },
    {
      "cell_type": "code",
      "source": [
        "How can you open a file for writing in Python and write a string to it?\n",
        "can open a file for writing in Python using the built-in open() function with the write mode ('w') — and\n",
        "then use the write() method to write a string into that file.\n",
        "\n",
        "file = open(\"filename.txt\", \"w\")\n",
        "file.write(\"Your text here\")\n",
        "file.close()\n",
        "# Open a file in write mode\n",
        "file = open(\"example.txt\", \"w\")\n",
        "\n",
        "# Write a string to the file\n",
        "file.write(\"Hello, this is my first file in Python!\")\n",
        "\n",
        "# Close the file\n",
        "file.close()\n",
        "\n",
        "Explanation:\n",
        "\n",
        "\"example.txt\" → name of the file\n",
        "\n",
        "\"w\" → write mode (creates a new file or overwrites an existing one)\n",
        "\n",
        "write() → writes the given string to the file\n",
        "\n",
        "close() → closes the file and saves the data properly\n"
      ],
      "metadata": {
        "id": "pPp0TJYkJkjR"
      },
      "execution_count": null,
      "outputs": []
    },
    {
      "cell_type": "code",
      "source": [
        "2. Write a Python program to read the contents of a file and print each line ?"
      ],
      "metadata": {
        "id": "4BD2etU6KFax"
      },
      "execution_count": null,
      "outputs": []
    },
    {
      "cell_type": "code",
      "source": [
        "# Open the file in read mode\n",
        "with open(\"example.txt\", \"r\") as file:\n",
        "    # Loop through each line in the file\n",
        "    for line in file:\n",
        "        # Print each line after stripping the newline character\n",
        "        print(line.strip())\n",
        "Explanation:\n",
        "\n",
        "open(\"example.txt\", \"r\") → opens the file in read mode (\"r\").\n",
        "\n",
        "with statement → automatically closes the file after reading.\n",
        "\n",
        "for line in file: → reads the file line by line.\n",
        "\n",
        "line.strip() → removes any extra spaces or newline characters."
      ],
      "metadata": {
        "id": "aBMPFHAsKO8T"
      },
      "execution_count": null,
      "outputs": []
    },
    {
      "cell_type": "code",
      "source": [
        "3. How would you handle a case where the file doesn't exist while trying to open it for reading?"
      ],
      "metadata": {
        "id": "0gumRw0tKgTp"
      },
      "execution_count": null,
      "outputs": []
    },
    {
      "cell_type": "code",
      "source": [
        "When  try to open a file that doesn’t exist in read mode (\"r\"), Python raises a FileNotFoundError.\n",
        "To handle this safely, you should use exception handling with a try–except block.\n",
        "\n",
        "try:\n",
        "    with open(\"data.txt\", \"r\") as file:\n",
        "        content = file.read()\n",
        "        print(content)\n",
        "except FileNotFoundError:\n",
        "    print(\"Error: The file does not exist. Please check the file name or path.\")\n",
        "\n",
        "Explanation:\n",
        "\n",
        "The try block contains code that might cause an error.\n",
        "\n",
        "If the file \"data.txt\" is missing, Python raises a FileNotFoundError.\n",
        "\n",
        "The except block catches that error and displays a friendly message instead of crashing the program."
      ],
      "metadata": {
        "id": "mGjei87dKjpy"
      },
      "execution_count": null,
      "outputs": []
    },
    {
      "cell_type": "code",
      "source": [
        "4.Here’s a simple and clear Python script that reads from one file and writes its content to another file?"
      ],
      "metadata": {
        "id": "Awk7g-1-K68A"
      },
      "execution_count": null,
      "outputs": []
    },
    {
      "cell_type": "code",
      "source": [
        "# Open the source file in read mode and destination file in write mode\n",
        "with open(\"source.txt\", \"r\") as src:\n",
        "    with open(\"destination.txt\", \"w\") as dest:\n",
        "        # Read content from source and write to destination\n",
        "        for line in src:\n",
        "            dest.write(line)\n",
        "\n",
        "print(\"File copied successfully!\")\n",
        "\n",
        "Explanation:\n",
        "\n",
        "open(\"source.txt\", \"r\") → opens the source file for reading.\n",
        "\n",
        "open(\"destination.txt\", \"w\") → opens/creates the destination file for writing.\n",
        "\n",
        "for line in src: → reads each line from the source file.\n",
        "\n",
        "dest.write(line) → writes each line into the destination file.\n",
        "\n",
        "The with statement automatically closes both files when done."
      ],
      "metadata": {
        "id": "G39w3zp5LFCS"
      },
      "execution_count": null,
      "outputs": []
    },
    {
      "cell_type": "code",
      "source": [
        "5.How would you catch and handle division by zero error in Python?"
      ],
      "metadata": {
        "id": "vlQzSYqBLNCU"
      },
      "execution_count": null,
      "outputs": []
    },
    {
      "cell_type": "code",
      "source": [
        "In Python, when you try to divide a number by zero, it raises a ZeroDivisionError.\n",
        "To handle this error gracefully and prevent your program from crashing, you can use a try–except block.\n",
        "\n",
        "try:\n",
        "    a = int(input(\"Enter numerator: \"))\n",
        "    b = int(input(\"Enter denominator: \"))\n",
        "    result = a / b\n",
        "    print(\"Result:\", result)\n",
        "except ZeroDivisionError:\n",
        "    print(\"Error: Division by zero is not allowed.\")\n",
        "\n",
        "Explanation:\n",
        "\n",
        "The code inside the try block runs normally.\n",
        "\n",
        "If the denominator (b) is zero, Python raises a ZeroDivisionError.\n",
        "\n",
        "The except ZeroDivisionError: block catches that specific error.\n",
        "\n",
        "Instead of crashing, it prints a friendly message to the user."
      ],
      "metadata": {
        "id": "GPXI5MdhLyTH"
      },
      "execution_count": null,
      "outputs": []
    },
    {
      "cell_type": "code",
      "source": [
        "6.Write a Python program that logs an error message to a log file when a division by zero exception occurs?"
      ],
      "metadata": {
        "id": "uyUgTk4FMOdC"
      },
      "execution_count": null,
      "outputs": []
    },
    {
      "cell_type": "code",
      "source": [
        "import logging\n",
        "\n",
        "# Configure logging to write messages to a file\n",
        "logging.basicConfig(filename=\"error_log.txt\",\n",
        "                    level=logging.ERROR,\n",
        "                    format=\"%(asctime)s - %(levelname)s - %(message)s\")\n",
        "\n",
        "try:\n",
        "    a = int(input(\"Enter numerator: \"))\n",
        "    b = int(input(\"Enter denominator: \"))\n",
        "    result = a / b\n",
        "    print(\"Result:\", result)\n",
        "\n",
        "except ZeroDivisionError as e:\n",
        "    print(\"Error: Division by zero is not allowed.\")\n",
        "    logging.error(\"Division by zero error occurred: %s\", e)\n",
        "\n",
        "Explanation:\n",
        "\n",
        "import logging → imports the logging module.\n",
        "\n",
        "logging.basicConfig() → configures logging:\n",
        "\n",
        "filename=\"error_log.txt\" → saves logs in a file.\n",
        "\n",
        "level=logging.ERROR → records only error-level messages and above.\n",
        "\n",
        "format=\"%(asctime)s - %(levelname)s - %(message)s\" → adds a timestamp and message format.\n",
        "\n",
        "try block → attempts division.\n",
        "\n",
        "except ZeroDivisionError → catches division by zero errors.\n",
        "\n",
        "logging.error() → writes the error details to the log file."
      ],
      "metadata": {
        "id": "unyw1lh5MUV-"
      },
      "execution_count": null,
      "outputs": []
    },
    {
      "cell_type": "code",
      "source": [
        "6.How do you log information at different levels (INFO, ERROR, WARNING) in Python using the logging module?"
      ],
      "metadata": {
        "id": "2TOKd1TGMaHw"
      },
      "execution_count": null,
      "outputs": []
    },
    {
      "cell_type": "code",
      "source": [
        "Python’s logging module allows you to record messages at different severity levels — such as INFO, WARNING, ERROR, DEBUG, and\n",
        " CRITICAL — which helps in debugging and monitoring your application effectively.\n",
        "\n",
        " import logging\n",
        "\n",
        "# Configure the logging system\n",
        "logging.basicConfig(\n",
        "    filename=\"app.log\",            # Log file name\n",
        "    level=logging.DEBUG,           # Minimum level to capture\n",
        "    format=\"%(asctime)s - %(levelname)s - %(message)s\"\n",
        ")\n",
        "\n",
        "# Log messages at different levels\n",
        "logging.debug(\"This is a DEBUG message — used for detailed debugging.\")\n",
        "logging.info(\"This is an INFO message — program is running normally.\")\n",
        "logging.warning(\"This is a WARNING message — something might be wrong.\")\n",
        "logging.error(\"This is an ERROR message — an error occurred.\")\n",
        "logging.critical(\"This is a CRITICAL message — serious failure!\")\n",
        "\n",
        "Explanation:\n",
        "\n",
        "logging.basicConfig() sets up:\n",
        "\n",
        "filename: where logs are saved\n",
        "\n",
        "level: the lowest log level you want to capture\n",
        "\n",
        "format: how each log message is displayed\n"
      ],
      "metadata": {
        "id": "-H-v1bqIMhHi"
      },
      "execution_count": null,
      "outputs": []
    },
    {
      "cell_type": "code",
      "source": [
        "7. How do you log information at different levels (INFO, ERROR, WARNING) in\n",
        " Python using the logging module?"
      ],
      "metadata": {
        "id": "lK1inUlwMy-P"
      },
      "execution_count": null,
      "outputs": []
    },
    {
      "cell_type": "code",
      "source": [
        "You can log information at different levels in Python using the logging module,\n",
        "which provides built-in functions to record messages like INFO, WARNING, and ERROR.\n",
        "\n",
        "import logging\n",
        "\n",
        "# Configure the logging settings\n",
        "logging.basicConfig(\n",
        "    filename=\"app.log\",                  # Log file name\n",
        "    level=logging.DEBUG,                 # Minimum level of messages to log\n",
        "    format=\"%(asctime)s - %(levelname)s - %(message)s\"\n",
        ")\n",
        "\n",
        "# Log messages at different severity levels\n",
        "logging.info(\"This is an INFO message - Program started successfully.\")\n",
        "logging.warning(\"This is a WARNING message - Low disk space.\")\n",
        "logging.error(\"This is an ERROR message - File not found.\")\n",
        "\n",
        "Explanation:\n",
        "\n",
        "import logging → imports the logging module.\n",
        "\n",
        "basicConfig() → sets up:\n",
        "\n",
        "filename → where logs will be saved (app.log).\n",
        "\n",
        "level → the lowest message level to record (DEBUG means record all).\n",
        "\n",
        "format → defines how log messages look (timestamp, level, and message).\n",
        "\n",
        "Logging functions:\n",
        "\n",
        "logging.info() → for general information.\n",
        "\n",
        "logging.warning() → for potential issues.\n",
        "\n",
        "logging.error() → for serious problems or failures."
      ],
      "metadata": {
        "id": "2660rOBnM5ta"
      },
      "execution_count": null,
      "outputs": []
    },
    {
      "cell_type": "code",
      "source": [
        "8.Write a program to handle a file opening error using exception handling?"
      ],
      "metadata": {
        "id": "_5hRn8qJNe0c"
      },
      "execution_count": null,
      "outputs": []
    },
    {
      "cell_type": "code",
      "source": [
        "# Program to handle file opening error\n",
        "\n",
        "try:\n",
        "    # Attempt to open a file that may not exist\n",
        "    file = open(\"non_existing_file.txt\", \"r\")\n",
        "    content = file.read()\n",
        "    print(content)\n",
        "    file.close()\n",
        "\n",
        "except FileNotFoundError:\n",
        "    print(\"Error: The file you are trying to open does not exist.\")\n",
        "\n",
        "except PermissionError:\n",
        "    print(\"Error: You do not have permission to open this file.\")\n",
        "\n",
        "except Exception as e:\n",
        "    # Catch any other unexpected errors\n",
        "    print(\"An unexpected error occurred:\", e)\n",
        "\n",
        "Explanation:\n",
        "\n",
        "try block — contains code that may raise an exception.\n",
        "\n",
        "except FileNotFoundError — handles the case when the file doesn’t exist.\n",
        "\n",
        "except PermissionError — handles permission-related errors.\n",
        "\n",
        "except Exception as e — catches any other general exceptions."
      ],
      "metadata": {
        "id": "IVRPAU-SO9FA"
      },
      "execution_count": null,
      "outputs": []
    },
    {
      "cell_type": "code",
      "source": [
        "9.How can you read a file line by line and store its content in a list in Python?"
      ],
      "metadata": {
        "id": "Q7gdRCtSP-6h"
      },
      "execution_count": null,
      "outputs": []
    },
    {
      "cell_type": "code",
      "source": [
        "# Open the file in read mode\n",
        "with open(\"example.txt\", \"r\") as file:\n",
        "    # Read all lines and store them in a list\n",
        "    lines = file.readlines()\n",
        "\n",
        "# Print the list\n",
        "print(lines)\n",
        "\n",
        "Explanation:\n",
        "\n",
        "open(\"example.txt\", \"r\") → Opens the file in read mode.\n",
        "\n",
        "file.readlines() → Reads all lines and returns them as a list of strings\n",
        " (each line including the newline \\n character).\n",
        "\n",
        "with statement → Ensures the file is automatically closed after reading"
      ],
      "metadata": {
        "id": "POawFvSGQERw"
      },
      "execution_count": null,
      "outputs": []
    },
    {
      "cell_type": "code",
      "source": [
        "10.How can you append data to an existing file in Python?"
      ],
      "metadata": {
        "id": "5GEBf6dGQivC"
      },
      "execution_count": null,
      "outputs": []
    },
    {
      "cell_type": "code",
      "source": [
        "# Open the file in append mode\n",
        "with open(\"example.txt\", \"a\") as file:\n",
        "    file.write(\"\\nThis is a new line added to the file.\")\n",
        "\n",
        "Explanation:\n",
        "\n",
        "\"a\" → Opens the file in append mode.\n",
        "\n",
        "If the file doesn’t exist, it will be created automatically.\n",
        "\n",
        "file.write() → Writes the specified string to the end of the file.\n",
        "\n",
        "\\n → Adds a newline before the new text (optional, to keep formatting clean).\n",
        "\n",
        "with statement → Automatically closes the file after writing."
      ],
      "metadata": {
        "id": "CA8cRSMsQqWg"
      },
      "execution_count": null,
      "outputs": []
    },
    {
      "cell_type": "markdown",
      "source": [
        "11.Write a Python program that uses a try-except block to handle an error when attempting to access a dictionary key that doesn't exist?"
      ],
      "metadata": {
        "id": "Pd7EU-SyQyVD"
      }
    },
    {
      "cell_type": "code",
      "source": [
        "# Define a sample dictionary\n",
        "student = {\n",
        "    \"name\": \"Alice\",\n",
        "    \"age\": 20,\n",
        "    \"course\": \"Chemistry\"\n",
        "}\n",
        "\n",
        "try:\n",
        "    # Attempt to access a key that may not exist\n",
        "    print(\"Student grade:\", student[\"grade\"])\n",
        "\n",
        "except KeyError:\n",
        "    print(\"Error: The specified key does not exist in the dictionary.\")\n",
        "\n",
        "Explanation:\n",
        "\n",
        "A KeyError occurs when you try to access a dictionary key that isn’t present.\n",
        "\n",
        "The try block runs the risky code.\n",
        "\n",
        "The except KeyError: block catches the error and prints a user-friendly message\n",
        " instead of stopping the program."
      ],
      "metadata": {
        "id": "1VeHDHJKQ8B2"
      },
      "execution_count": null,
      "outputs": []
    },
    {
      "cell_type": "code",
      "source": [
        "12.Write a program that demonstrates using multiple except blocks to handle different types of exceptions?"
      ],
      "metadata": {
        "id": "bwo1a6MZRLKg"
      },
      "execution_count": null,
      "outputs": []
    },
    {
      "cell_type": "code",
      "source": [
        "try:\n",
        "    # Get user input\n",
        "    num1 = int(input(\"Enter the first number: \"))\n",
        "    num2 = int(input(\"Enter the second number: \"))\n",
        "\n",
        "    # Perform division\n",
        "    result = num1 / num2\n",
        "\n",
        "    # Try accessing a dictionary key\n",
        "    data = {\"name\": \"Alice\", \"age\": 25}\n",
        "    print(\"City:\", data[\"city\"])  # Key does not exist\n",
        "\n",
        "# Handle division by zero\n",
        "except ZeroDivisionError:\n",
        "    print(\"Error: You cannot divide by zero.\")\n",
        "\n",
        "# Handle invalid input (non-numeric)\n",
        "except ValueError:\n",
        "    print(\"Error: Please enter only numeric values.\")\n",
        "\n",
        "# Handle missing dictionary key\n",
        "except KeyError:\n",
        "    print(\"Error: The specified key was not found in the dictionary.\")\n",
        "\n",
        "# Handle any other unexpected error\n",
        "except Exception as e:\n",
        "    print(\"An unexpected error occurred:\", e)\n",
        "\n",
        "else:\n",
        "    print(\"Division result:\", result)\n",
        "\n",
        "finally:\n",
        "    print(\"Program execution completed.\")\n",
        "\n",
        "\n",
        "Explanation:\n",
        "\n",
        "try block: Contains code that might raise different types of exceptions.\n",
        "except ZeroDivisionError: Handles division by zero errors.\n",
        "except ValueError: Handles invalid numeric input.\n",
        "except KeyError: Handles missing dictionary keys.\n",
        "except Exception as e: Catches any other unknown errors.\n",
        "else: Runs if no exception occurs.\n",
        "finally: Runs no matter what — often used for cleanup actions."
      ],
      "metadata": {
        "id": "TC2Q4VBiRdP4"
      },
      "execution_count": null,
      "outputs": []
    },
    {
      "cell_type": "markdown",
      "source": [
        "13.How would you check if a file exists before attempting to read it in Python?"
      ],
      "metadata": {
        "id": "9OdBupqaR5dv"
      }
    },
    {
      "cell_type": "code",
      "source": [
        "import os\n",
        "\n",
        "filename = \"example.txt\"\n",
        "\n",
        "if os.path.exists(filename):\n",
        "    with open(filename, \"r\") as file:\n",
        "        content = file.read()\n",
        "        print(\"File content:\\n\", content)\n",
        "else:\n",
        "    print(\"Error: The file does not exist.\")\n",
        "\n",
        "Explanation:\n",
        "\n",
        "os.path.exists(filename) → Returns True if the file exists, otherwise False.\n",
        "\n",
        "Path(\"example.txt\").exists() → Does the same but is more modern and object-oriented.\n",
        "\n",
        "Using an if check before opening prevents a FileNotFoundError."
      ],
      "metadata": {
        "id": "PkmyOrM2SDwX"
      },
      "execution_count": null,
      "outputs": []
    },
    {
      "cell_type": "markdown",
      "source": [
        "14.Write a program that uses the logging module to log both informational and error messages?"
      ],
      "metadata": {
        "id": "4OJPrcnESnF0"
      }
    },
    {
      "cell_type": "code",
      "source": [
        "import logging\n",
        "\n",
        "# Configure the logging settings\n",
        "logging.basicConfig(\n",
        "    filename=\"app.log\",              # Log file name\n",
        "    level=logging.DEBUG,             # Minimum level to log\n",
        "    format=\"%(asctime)s - %(levelname)s - %(message)s\"\n",
        ")\n",
        "\n",
        "# Log an informational message\n",
        "logging.info(\"Program started successfully.\")\n",
        "\n",
        "try:\n",
        "    num1 = int(input(\"Enter the first number: \"))\n",
        "    num2 = int(input(\"Enter the second number: \"))\n",
        "    result = num1 / num2\n",
        "    logging.info(f\"Division successful. Result = {result}\")\n",
        "\n",
        "except ZeroDivisionError:\n",
        "    logging.error(\"Attempted to divide by zero.\")\n",
        "    print(\"Error: Division by zero is not allowed.\")\n",
        "\n",
        "except ValueError:\n",
        "    logging.error(\"Invalid input — non-numeric value entered.\")\n",
        "    print(\"Error: Please enter only numbers.\")\n",
        "\n",
        "except Exception as e:\n",
        "    logging.error(f\"Unexpected error occurred: {e}\")\n",
        "    print(\"An unexpected error occurred.\")\n",
        "\n",
        "else:\n",
        "    print(f\"The result is: {result}\")\n",
        "    logging.info(\"Program executed without any errors.\")\n",
        "\n",
        "finally:\n",
        "\n",
        "Explanation:\n",
        "\n",
        "logging.basicConfig() — sets up the log file, log level, and message format.\n",
        "\n",
        "level=logging.DEBUG — ensures all messages (DEBUG, INFO, WARNING, ERROR, CRITICAL) are logged.\n",
        "\n",
        "logging.info() — logs general informational messages.\n",
        "\n",
        "logging.error() — logs error messages when exceptions occur.\n",
        "\n",
        "The program writes all logs to a file named app.log in the same directory."
      ],
      "metadata": {
        "id": "ykE4iQHcSvZt"
      },
      "execution_count": null,
      "outputs": []
    },
    {
      "cell_type": "markdown",
      "source": [
        "15.Write a Python program that prints the content of a file and handles the case when the file is empty?"
      ],
      "metadata": {
        "id": "9Gc1eoJkS_f1"
      }
    },
    {
      "cell_type": "code",
      "source": [
        "# Program to print file content and handle empty file case\n",
        "\n",
        "try:\n",
        "    # Ask user for file name\n",
        "    filename = input(\"Enter the file name: \")\n",
        "\n",
        "    # Open the file in read mode\n",
        "    with open(filename, \"r\") as file:\n",
        "        content = file.read()\n",
        "\n",
        "        # Check if file is empty\n",
        "        if len(content.strip()) == 0:\n",
        "            print(\"The file is empty.\")\n",
        "        else:\n",
        "            print(\"File content:\\n\")\n",
        "            print(content)\n",
        "\n",
        "except FileNotFoundError:\n",
        "    print(\"Error: The specified file does not exist.\")\n",
        "\n",
        "except PermissionError:\n",
        "    print(\"Error: You don't have permission to read this file.\")\n",
        "\n",
        "    Explanation:\n",
        "\n",
        "file.read() → Reads the entire file content as a string.\n",
        "content.strip() → Removes whitespace (to correctly detect files that contain\n",
        "                                      only spaces or newlines).\n",
        "\n",
        "If the length of content.strip() is 0, the file is considered empty.\n",
        "The program also handles:\n",
        "FileNotFoundError → File doesn’t exist\n",
        "PermissionError → No read access\n",
        "Other unexpected errors"
      ],
      "metadata": {
        "id": "POTLJnbLTH6V"
      },
      "execution_count": null,
      "outputs": []
    },
    {
      "cell_type": "code",
      "source": [
        "16.Demonstrate how to use memory profiling to check the memory usage of a small program?"
      ],
      "metadata": {
        "id": "zeHeIX5TTgdU"
      },
      "execution_count": null,
      "outputs": []
    },
    {
      "cell_type": "code",
      "source": [
        "Step-by-step Example: Memory Profiling in Python\n",
        " Install the memory_profiler package\n",
        "\n",
        "Run this command in your terminal or notebook:\n",
        "\n",
        "pip install memory-profiler\n",
        "\n",
        " Write a small program using memory_profiler\n",
        "from memory_profiler import profile\n",
        "\n",
        "@profile\n",
        "def create_large_list():\n",
        "    # Create a large list of numbers\n",
        "    data = [i for i in range(1000000)]\n",
        "    return sum(data)\n",
        "\n",
        "if __name__ == \"__main__\":\n",
        "    total = create_large_list()\n",
        "    print(\"Sum:\", total)\n",
        "\n",
        " Run the program with memory profiling\n",
        "\n",
        "Use the following command in your terminal:\n",
        "\n",
        "python -m memory_profiler your_script_name.py"
      ],
      "metadata": {
        "id": "n34W_rF1Tq6y"
      },
      "execution_count": null,
      "outputs": []
    },
    {
      "cell_type": "markdown",
      "source": [
        "17.Write a Python program to create and write a list of numbers to a file, one number per line?"
      ],
      "metadata": {
        "id": "GACkgRqiUEu2"
      }
    },
    {
      "cell_type": "code",
      "source": [
        "# Program to write a list of numbers to a file\n",
        "\n",
        "# Create a list of numbers\n",
        "numbers = [10, 20, 30, 40, 50]\n",
        "\n",
        "# Open the file in write mode\n",
        "with open(\"numbers.txt\", \"w\") as file:\n",
        "    # Write each number on a new line\n",
        "    for num in numbers:\n",
        "        file.write(str(num) + \"\\n\")\n",
        "\n",
        "print(\"Numbers have been written to 'numbers.txt' successfully.\")\n",
        "\n",
        "Explanation:\n",
        "\n",
        "numbers = [10, 20, 30, 40, 50] → Creates a list of integers.\n",
        "\n",
        "open(\"numbers.txt\", \"w\") → Opens the file in write mode (creates it if it doesn’t exist).\n",
        "\n",
        "str(num) → Converts the number to a string before writing.\n",
        "\n",
        "\"\\n\" → Adds a newline character after each number.\n",
        "\n",
        "with → Ensures the file is automatically closed after writing."
      ],
      "metadata": {
        "id": "cE-xgCGXUKDe"
      },
      "execution_count": null,
      "outputs": []
    },
    {
      "cell_type": "markdown",
      "source": [
        "18.How would you implement a basic logging setup that logs to a file with rotation after 1MB?"
      ],
      "metadata": {
        "id": "E0HBAYpOUUUa"
      }
    },
    {
      "cell_type": "code",
      "source": [
        "import logging\n",
        "from logging.handlers import RotatingFileHandler\n",
        "\n",
        "# Create a logger\n",
        "logger = logging.getLogger(\"MyLogger\")\n",
        "logger.setLevel(logging.INFO)  # Set minimum log level\n",
        "\n",
        "# Create a rotating file handler\n",
        "handler = RotatingFileHandler(\n",
        "    \"app.log\",          # Log file name\n",
        "    maxBytes=1_000_000, # Rotate after 1MB\n",
        "    backupCount=3       # Keep last 3 old log files\n",
        ")\n",
        "\n",
        "# Define the log format\n",
        "formatter = logging.Formatter(\"%(asctime)s - %(levelname)s - %(message)s\")\n",
        "handler.setFormatter(formatter)\n",
        "\n",
        "# Add handler to logger\n",
        "logger.addHandler(handler)\n",
        "\n",
        "# Example log messages\n",
        "logger.info(\"Application started successfully.\")\n",
        "for i in range(10000):\n",
        "    logger.info(f\"Logging event number {i}\")\n",
        "\n",
        "logger.info(\"Application finished.\")\n",
        "\n",
        "Explanation:\n",
        "\n",
        "RotatingFileHandler → Automatically creates new log files when the current file exceeds maxBytes.\n",
        "maxBytes=1_000_000 → Log rotation occurs once the log file exceeds 1 MB.\n",
        "backupCount=3 → Keeps up to 3 old log files (app.log.1, app.log.2, etc.).\n",
        "formatter → Controls the log message format (timestamp, level, message)."
      ],
      "metadata": {
        "id": "cvo-SrFsUZQI"
      },
      "execution_count": null,
      "outputs": []
    },
    {
      "cell_type": "markdown",
      "source": [
        "19.Write a program that handles both IndexError and KeyError using a try-except block?"
      ],
      "metadata": {
        "id": "ofsfh_sKUn7c"
      }
    },
    {
      "cell_type": "code",
      "source": [
        "# Program to handle both IndexError and KeyError\n",
        "\n",
        "try:\n",
        "    # List and dictionary for testing\n",
        "    numbers = [10, 20, 30]\n",
        "    student = {\"name\": \"Alice\", \"age\": 22}\n",
        "\n",
        "    # Try accessing invalid indices and keys\n",
        "    print(\"Number at index 5:\", numbers[5])     # This will raise IndexError\n",
        "    print(\"Student grade:\", student[\"grade\"])   # This will raise KeyError\n",
        "\n",
        "except IndexError:\n",
        "    print(\"Error: List index out of range. You tried to access an invalid index.\")\n",
        "\n",
        "except KeyError:\n",
        "    print(\"Error: The specified key does not exist in the dictionary.\")\n",
        "\n",
        "except Exception as e:\n",
        "    print(\"An unexpected error occurred:\", e)\n",
        "\n",
        "else:\n",
        "    print(\"All operations completed successfully.\")\n"
      ],
      "metadata": {
        "id": "rZ0Ruc8XUv_e"
      },
      "execution_count": null,
      "outputs": []
    },
    {
      "cell_type": "markdown",
      "source": [
        "20.How would you open a file and read its contents using a context manager in Python?"
      ],
      "metadata": {
        "id": "SVmrTA7kU3Z6"
      }
    },
    {
      "cell_type": "code",
      "source": [
        "# Open and read a file using a context manager\n",
        "\n",
        "filename = \"example.txt\"\n",
        "\n",
        "try:\n",
        "    with open(filename, \"r\") as file:\n",
        "        content = file.read()\n",
        "        print(\"File content:\\n\")\n",
        "        print(content)\n",
        "\n",
        "except FileNotFoundError:\n",
        "    print(\"Error: The file does not exist.\")\n",
        "\n",
        "except PermissionError:\n",
        "    print(\"Error: You do not have permission to read this file.\")\n",
        "\n",
        "except Exception as e:\n",
        "    print(\"An unexpected error occurred:\", e)\n"
      ],
      "metadata": {
        "id": "rOwjPWBRU-8V"
      },
      "execution_count": null,
      "outputs": []
    },
    {
      "cell_type": "markdown",
      "source": [
        "21.Write a Python program that reads a file and prints the number of occurrences of a specific word?"
      ],
      "metadata": {
        "id": "YE2O-PAiVG4U"
      }
    },
    {
      "cell_type": "code",
      "source": [
        "# Program to count occurrences of a specific word in a file\n",
        "\n",
        "try:\n",
        "    # Ask user for file name and word to search\n",
        "    filename = input(\"Enter the file name: \")\n",
        "    word_to_search = input(\"Enter the word to count: \").strip().lower()\n",
        "\n",
        "    # Open and read the file\n",
        "    with open(filename, \"r\") as file:\n",
        "        content = file.read().lower()  # Convert to lowercase for case-insensitive matching\n",
        "\n",
        "    # Split text into words and count occurrences\n",
        "    words = content.split()\n",
        "    count = words.count(word_to_search)\n",
        "\n",
        "    print(f\"The word '{word_to_search}' appears {count} time(s) in the file.\")\n",
        "\n",
        "except FileNotFoundError:\n",
        "    print(\"Error: The specified file does not exist.\")\n",
        "\n",
        "except PermissionError:\n",
        "    print(\"Error: You do not have permission to read this file.\")\n",
        "\n",
        "except Exception as e:\n",
        "    print(\"An unexpected error occurred:\", e)\n"
      ],
      "metadata": {
        "id": "Dy_FotfBVRXu"
      },
      "execution_count": null,
      "outputs": []
    },
    {
      "cell_type": "markdown",
      "source": [
        "22.How can you check if a file is empty before attempting to read its contents?"
      ],
      "metadata": {
        "id": "glsfTrggVZ0y"
      }
    },
    {
      "cell_type": "code",
      "source": [
        "import os\n",
        "\n",
        "filename = \"example.txt\"\n",
        "\n",
        "# Check if file exists first\n",
        "if os.path.exists(filename):\n",
        "    if os.path.getsize(filename) == 0:\n",
        "        print(\"The file is empty.\")\n",
        "    else:\n",
        "        with open(filename, \"r\") as file:\n",
        "            content = file.read()\n",
        "            print(\"File content:\\n\", content)\n",
        "else:\n",
        "    print(\"Error: The file does not exist.\")\n",
        "\n",
        "Explanation:\n",
        "\n",
        "os.path.getsize(filename) → Returns the size of the file in bytes.\n",
        "\n",
        "If the size is 0, the file is empty.\n",
        "\n",
        "It’s efficient — you check before opening and reading the file."
      ],
      "metadata": {
        "id": "pet3-A3SVdrt"
      },
      "execution_count": null,
      "outputs": []
    },
    {
      "cell_type": "markdown",
      "source": [
        "23.Write a Python program that writes to a log file when an error occurs during file handling?"
      ],
      "metadata": {
        "id": "mTe-chGrVr31"
      }
    },
    {
      "cell_type": "code",
      "source": [
        "import logging\n",
        "\n",
        "# Configure logging\n",
        "logging.basicConfig(\n",
        "    filename=\"file_errors.log\",       # Log file name\n",
        "    level=logging.ERROR,              # Log only ERROR and above\n",
        "    format=\"%(asctime)s - %(levelname)s - %(message)s\"\n",
        ")\n",
        "\n",
        "try:\n",
        "    # Ask user for file name\n",
        "    filename = input(\"Enter the file name to open: \")\n",
        "\n",
        "    # Attempt to open and read the file\n",
        "    with open(filename, \"r\") as file:\n",
        "        content = file.read()\n",
        "        print(\"File content:\\n\")\n",
        "        print(content)\n",
        "\n",
        "except FileNotFoundError:\n",
        "    print(\"Error: File not found.\")\n"
      ],
      "metadata": {
        "id": "YAgC3Lv9VwP2"
      },
      "execution_count": null,
      "outputs": []
    }
  ]
}