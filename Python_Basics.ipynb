{
  "nbformat": 4,
  "nbformat_minor": 0,
  "metadata": {
    "colab": {
      "provenance": []
    },
    "kernelspec": {
      "name": "python3",
      "display_name": "Python 3"
    },
    "language_info": {
      "name": "python"
    }
  },
  "cells": [
    {
      "cell_type": "code",
      "execution_count": null,
      "metadata": {
        "id": "Gr7_YUIXrqt6"
      },
      "outputs": [],
      "source": [
        "1.\tWhat is Python, and why is it popular ?\n",
        "- Python is a high-level, interpreted programming language known for its simplicity, readability, and versatility. It was created by Guido van Rossum and first released in 1991.\n",
        "What Python Is\n",
        "•\tHigh-level → Easy to read and write; abstracts away most of the complex details of the computer.\n",
        "•\tInterpreted → You don’t need to compile it; you can run code directly.\n",
        "•\tObject-oriented & multi-paradigm → Supports procedural, object-oriented, and functional programming styles.\n",
        "•\tCross-platform → Works on Windows, macOS, Linux, and even mobile/embedded systems."
      ]
    },
    {
      "cell_type": "markdown",
      "source": [
        "2.\tWhat is an interpreter in Python ?\n",
        "  - An interpreter in Python is a program that executes Python code line by line, converting it into machine-readable instructions that your computer can understand.\n"
      ],
      "metadata": {
        "id": "ncivquhxsE0S"
      }
    },
    {
      "cell_type": "markdown",
      "source": [
        "3.\tWhat are pre-defined keywords in Python?\n",
        "  - Pre-defined keywords in Python are reserved words that have special meanings in the language.They are part of Python’s syntax, so you can’t use them as variable names, function names, or identifiers.\n"
      ],
      "metadata": {
        "id": "1Kd0TKTtsQ6j"
      }
    },
    {
      "cell_type": "markdown",
      "source": [
        "4.\tCan keywords be used as variable names?\n",
        "  -  No, keywords cannot be used as variable names in Python.\n",
        "  Reason:\n",
        "    Keywords are reserved words that Python uses to define its own rules and syntax.If you try to use them as variable names, Python will get confused about whether you’re referring to a keyword or a variable.\n"
      ],
      "metadata": {
        "id": "J_ln3-b3sar6"
      }
    },
    {
      "cell_type": "markdown",
      "source": [
        "5.\tWhat is mutability in Python?\n",
        "    - Mutability in Python refers to whether or not an object’s value can be changed after it is created.\n",
        "    In simple words —\n",
        "    Mutable objects → can be changed.\n",
        "    Immutable objects → cannot be changed (any modification creates a new object).\n"
      ],
      "metadata": {
        "id": "HBHFnDslsl6K"
      }
    },
    {
      "cell_type": "markdown",
      "source": [
        "6.Why are lists mutable, but tuples are immutable?\n",
        "  - The Basic Idea\n",
        "  •\tLists are mutable → you can change, add, or remove elements after creating them.\n",
        "  •\tTuples are immutable → once created, you cannot modify their elements in any way.\n",
        "  The reason lies in how they are designed and stored in memory.\n",
        "  Internal Design Difference\n",
        "  Lists\n",
        "\n",
        "  •   Lists are designed for dynamic data — data that changes frequently.\n",
        "\n",
        "  •  \tInternally, a list keeps a reference (a pointer) to each element.\n",
        "  \n",
        "  •   Because of this flexible structure, Python can resize and update lists easily."
      ],
      "metadata": {
        "id": "ZPfLvw9UszFC"
      }
    },
    {
      "cell_type": "markdown",
      "source": [
        "7.What is the difference between “==” and “is” operators in Python?\n",
        "\n",
        "      -- Both == and is are comparison operators, but they compare different things\n",
        "        \n",
        "        == (Values)-Checks if two objects have the same value/content\n",
        "\n",
        "        \n",
        "        Is(Identifiers)-Checks if two variables refer to the same object in memory\n"
      ],
      "metadata": {
        "id": "oQ8hDeHAtYAi"
      }
    },
    {
      "cell_type": "markdown",
      "source": [
        "8.\tWhat are logical operators in Python?\n",
        "    - Logical operators in Python are used to combine conditional statements or make decisions based on multiple conditions.\n",
        "    They return a Boolean value — either True or False.\n",
        "    The Three Logical Operators\n",
        "    And- True if both conditions are true\n",
        "    Or- True if at least one condition is true\n",
        "    Not- Reverses the Boolean value\n"
      ],
      "metadata": {
        "id": "YpAP7eaOt5yr"
      }
    },
    {
      "cell_type": "markdown",
      "source": [
        "9.What is type casting in Python?\n",
        "\n",
        "    Ans- Type casting (or type conversion) is the process of changing the data type of a variable or value explicitly or implicitly.\n",
        "    Implicit Type Casting- Done automatically by Python (no manual code)\n",
        "    Explicit Type Casting- Done manually using type conversion functions (like int(), float(), str(), etc.).\n"
      ],
      "metadata": {
        "id": "8-waFZZgwKVk"
      }
    },
    {
      "cell_type": "markdown",
      "source": [
        "10.What is the difference between implicit and explicit type casting\n",
        "\n",
        "\n",
        "---Implicit Type Casting-Python automatically converts one data type to another without user intervention. Also called type coercion.\n",
        "Explicit Type Casting- The programmer manually converts a value from one type to another using built-in functions like int(), float(), str(), etc.\n",
        "\n",
        "\n",
        "\n",
        "\n"
      ],
      "metadata": {
        "id": "kks4pynLwZRj"
      }
    },
    {
      "cell_type": "markdown",
      "source": [
        "11.What is the purpose of conditional statements in Python ?\n",
        "\n",
        "\n",
        "---Conditional statements in Python are used to control the flow of a program based on certain conditions.\n",
        "Purpose of Conditional Statements\n",
        "\n",
        "1.\tDecision Making Execute specific code only when certain conditions are met.\n",
        "\n",
        "2.\tControl Program Flow -Allows branching — different paths of execution for different scenarios.\n",
        "\n",
        "3.\tAutomation and Logic Implementation\n",
        "Helps implement real-world logic like eligibility checks, validations, or game rules.\n",
        "\n",
        "\n"
      ],
      "metadata": {
        "id": "SQJv9v2EwmOJ"
      }
    },
    {
      "cell_type": "markdown",
      "source": [
        "12.How does the elif statement work ?\n",
        "\n",
        "\n",
        "---The elif statement in Python stands for “else if”. It allows you to check multiple conditions sequentially after an initial if statement.\n",
        "How elif Works\n",
        "\n",
        "1.\tPython checks the if condition first.\n",
        "\n",
        "2.\tIf the if condition is True, Python executes its block and skips all elif and else blocks.\n",
        "\n",
        "3.\tIf the if condition is False, Python checks the first elif condition.\n",
        "\n",
        "4.\tIf that elif is True, it executes its block and skips the rest.\n",
        "\n",
        "5.\tIf all if and elif conditions are False, Python executes the else block (if present)."
      ],
      "metadata": {
        "id": "3ac6r7rqwvU6"
      }
    },
    {
      "cell_type": "markdown",
      "source": [
        "13.\tWhat is the difference between for and while loops?\n",
        "\n",
        "\n",
        "---for loop- Executes a block of code a fixed number of times, iterating over a sequence (like list, tuple, string, range).\n",
        "\n",
        "while loop - Executes a block of code repeatedly as long as a condition is True (condition-controlled loop).\n",
        "\n",
        "\n"
      ],
      "metadata": {
        "id": "wQIj_QR6xND9"
      }
    },
    {
      "cell_type": "markdown",
      "source": [
        "14. Describe a scenario where a while loop is more suitable than a for loop ?\n",
        "\n",
        "\n",
        "---\n",
        "A while loop is more suitable than a for loop in situations where you don’t know in advance how many times you need to repeat a task, and the loop should continue until a specific condition is met.\n",
        "\n"
      ],
      "metadata": {
        "id": "dRoObUj1xZd8"
      }
    },
    {
      "cell_type": "code",
      "source": [],
      "metadata": {
        "id": "iHKPoQjOyFVc"
      },
      "execution_count": null,
      "outputs": []
    },
    {
      "cell_type": "markdown",
      "source": [
        "                                                          Practical Questions"
      ],
      "metadata": {
        "id": "HPHwI9naxiMr"
      }
    },
    {
      "cell_type": "code",
      "source": [
        "Write a Python program to print \"Hello, World! ?\n",
        "# Python program to print Hello, World!\n",
        "print(\"Hello, World!\")\n",
        "     Explanation:\n",
        "•\tprint() is a built-in Python function used to display text or values on the screen.\n",
        "•\tThe text to display is placed inside quotes (\" or ').\n"
      ],
      "metadata": {
        "id": "gC53XjjCyIKT"
      },
      "execution_count": null,
      "outputs": []
    },
    {
      "cell_type": "code",
      "source": [
        "2. Write a Python program that displays your name and age ?\n",
        "Ans\n",
        "# Python program to display name and age\n",
        "# Assign your name and age to variables\n",
        "name = \"John Doe\"\n",
        "age = 25\n",
        "# Display the name and age\n",
        "print(\"Name:\", name)\n",
        "print(\"Age:\", age)\n",
        "Explanation:\n",
        "•\tname and age are variables storing your information.\n",
        "•\tprint() outputs the values to the screen.\n",
        "•\tYou can change the values of name and age as needed.\n"
      ],
      "metadata": {
        "id": "9QxZv9OwySGS"
      },
      "execution_count": null,
      "outputs": []
    },
    {
      "cell_type": "code",
      "source": [
        "3.\tWrite code to print all the pre-defined keywords in Python using the keyword library ?\n",
        "Ans-\n",
        "# Import the keyword module\n",
        "import keyword\n",
        "# Print all Python keywords\n",
        "print(\"Python keywords are:\")\n",
        "print(keyword.kwlist)\n",
        "\n",
        "Explanation:\n",
        "•\timport keyword → imports the keyword module.\n",
        "•\tkeyword.kwlist → contains a list of all Python keywords.\n",
        "•\tprint() displays them on the screen."
      ],
      "metadata": {
        "id": "4T2DZ39fyWPK"
      },
      "execution_count": null,
      "outputs": []
    },
    {
      "cell_type": "code",
      "source": [
        "4.\tWrite a program that checks if a given word is a Python keyword.\n",
        "Ans-\n",
        "# Import the keyword module\n",
        "import keyword\n",
        "# Take input from the user\n",
        "word = input(\"Enter a word to check: \")\n",
        "# Check if the word is a Python keyword\n",
        "if keyword.iskeyword(word):\n",
        "    print(f\"'{word}' is a Python keyword.\")\n",
        "else:\n",
        "    print(f\"'{word}' is NOT a Python keyword.\")\n",
        "Explanation:\n",
        "•\tkeyword.iskeyword(word) → Returns True if the word is a Python keyword, else False.\n",
        "•\tinput() → Takes the word from the user.\n",
        "•\tif-else → Prints the appropriate message.\n"
      ],
      "metadata": {
        "id": "MyMXUY2Fybjz"
      },
      "execution_count": null,
      "outputs": []
    },
    {
      "cell_type": "code",
      "source": [
        "5.\tCreate a list and tuple in Python, and demonstrate how attempting to change an element works differently for each ?\n",
        "Ans\n",
        "# Creating a list and a tuple\n",
        "my_list = [1, 2, 3]\n",
        "my_tuple = (4, 5, 6)\n",
        "\n",
        "# Display original list and tuple\n",
        "print(\"Original list:\", my_list)\n",
        "print(\"Original tuple:\", my_tuple)\n",
        "\n",
        "# Modify the list\n",
        "my_list[0] = 10\n",
        "print(\"\\nAfter modifying the list:\")\n",
        "print(\"List:\", my_list)\n",
        "\n",
        "# Attempt to modify the tuple\n",
        "try:\n",
        "    my_tuple[0] = 40\n",
        "except TypeError as e:\n",
        "    print(\"\\nAttempting to modify the tuple results in an error:\")\n",
        "    print(e)\n",
        "\n",
        "Explanation\n",
        "1.\tList (my_list)\n",
        "o\tLists are mutable, so we can change elements.\n",
        "o\tmy_list[0] = 10 changes the first element from 1 to 10.\n",
        "2.\tTuple (my_tuple)\n",
        "o\tTuples are immutable, so trying my_tuple[0] = 40 raises a TypeError.\n",
        "o\tPython does not allow modifying tuples after creation.\n"
      ],
      "metadata": {
        "id": "-AGTVU_Kyfzr"
      },
      "execution_count": null,
      "outputs": []
    },
    {
      "cell_type": "code",
      "source": [
        "6.\tWrite a function to demonstrate the behavior of mutable and immutable arguments.\n",
        "Ans\n",
        "# Function to modify a mutable and an immutable argument\n",
        "def modify_values(a, b):\n",
        "    print(\"\\nInside function (before modification):\")\n",
        "    print(\"Immutable (int):\", a)\n",
        "    print(\"Mutable (list):\", b)\n",
        "\n",
        "    # Attempt to modify both\n",
        "    a += 10        # Immutable (int)\n",
        "    b.append(100)  # Mutable (list)\n",
        "\n",
        "    print(\"\\nInside function (after modification):\")\n",
        "    print(\"Immutable (int):\", a)\n",
        "    print(\"Mutable (list):\", b)\n",
        "\n",
        "# Immutable object\n",
        "num = 50\n",
        "\n",
        "# Mutable object\n",
        "numbers_list = [1, 2, 3]\n",
        "\n",
        "print(\"Before function call:\")\n",
        "print(\"num =\", num)\n",
        "print(\"numbers_list =\", numbers_list)\n",
        "\n",
        "# Call the function\n",
        "modify_values(num, numbers_list)\n",
        "\n",
        "print(\"\\nAfter function call:\")\n",
        "print(\"num =\", num)              # Unchanged (immutable)\n",
        "print(\"numbers_list =\", numbers_list)  # Changed (mutable)\n"
      ],
      "metadata": {
        "id": "wC37XfrZyl9j"
      },
      "execution_count": null,
      "outputs": []
    },
    {
      "cell_type": "code",
      "source": [
        "\n",
        "7.\tWrite a program that performs basic arithmetic operations on two user-input numbers.\n",
        "Ans\n",
        "# Take input from the user\n",
        "num1 = float(input(\"Enter the first number: \"))\n",
        "num2 = float(input(\"Enter the second number: \"))\n",
        "# Perform basic arithmetic operations\n",
        "addition = num1 + num2\n",
        "subtraction = num1 - num2\n",
        "multiplication = num1 * num2\n",
        "# Handle division carefully to avoid division by zero\n",
        "if num2 != 0:\n",
        "    division = num1 / num2\n",
        "else:\n",
        "    division = \"Undefined (division by zero)\"\n",
        "# Display the results\n",
        "print(\"\\nResults:\")\n",
        "print(f\"{num1} + {num2} = {addition}\")\n",
        "print(f\"{num1} - {num2} = {subtraction}\")\n",
        "print(f\"{num1} * {num2} = {multiplication}\")\n",
        "print(f\"{num1} / {num2} = {division}\")\n",
        "\n",
        "Explanation\n",
        "1.\tinput() → Reads user input as a string.\n",
        "2.\tfloat() → Converts input to a floating-point number to allow decimals.\n",
        "3.\tArithmetic operations:\n",
        "o\t+ → Addition\n",
        "o\t- → Subtraction\n",
        "o\t* → Multiplication\n",
        "o\t/ → Division (checks for zero to avoid errors)\n",
        "4.\tf-strings → Used to display results neatly.\n"
      ],
      "metadata": {
        "id": "kCc4IF1Zyqxz"
      },
      "execution_count": null,
      "outputs": []
    },
    {
      "cell_type": "code",
      "source": [
        "8.\tWrite a program to demonstrate the use of logical operators.\n",
        "Ans-\n",
        "# Logical Operators Demo\n",
        "# Take two numbers as input\n",
        "x = int(input(\"Enter the first number: \"))\n",
        "y = int(input(\"Enter the second number: \"))\n",
        "\n",
        "print(\"\\nUsing 'and' operator:\")\n",
        "# True if both conditions are True\n",
        "if x > 0 and y > 0:\n",
        "    print(\"Both numbers are positive\")\n",
        "else:\n",
        "    print(\"At least one number is not positive\")\n",
        "\n",
        "print(\"\\nUsing 'or' operator:\")\n",
        "# True if at least one condition is True\n",
        "if x > 0 or y > 0:\n",
        "    print(\"At least one number is positive\")\n",
        "else:\n",
        "    print(\"Neither number is positive\")\n",
        "\n",
        "print(\"\\nUsing 'not' operator:\")\n",
        "# Reverse the condition\n",
        "if not(x > 0):\n",
        "    print(f\"{x} is not positive\")\n",
        "else:\n",
        "    print(f\"{x} is positive\")\n"
      ],
      "metadata": {
        "id": "e6GtwKHjyx20"
      },
      "execution_count": null,
      "outputs": []
    },
    {
      "cell_type": "code",
      "source": [
        "9. Write a Python program to convert user input from string to integer, float, and boolean types.\n",
        "Ans- Here’s a Python program that takes user input as a string and converts it to integer, float, and boolean types:\n",
        "# Take input from the user\n",
        "user_input = input(\"Enter something: \")\n",
        "# Convert to integer (if possible)\n",
        "try:\n",
        "    int_value = int(user_input)\n",
        "except ValueError:\n",
        "    int_value = \"Cannot convert to integer\"\n",
        "# Convert to float (if possible)\n",
        "try:\n",
        "    float_value = float(user_input)\n",
        "except ValueError:\n",
        "    float_value = \"Cannot convert to float\"\n",
        "# Convert to boolean\n",
        "# In Python, empty string is False, non-empty string is True\n",
        "bool_value = bool(user_input)\n",
        "# Display the results\n",
        "print(\"\\nConversion Results:\")\n",
        "print(f\"Original input (string): {user_input}\")\n",
        "print(f\"As integer: {int_value}\")\n",
        "print(f\"As float: {float_value}\")\n",
        "print(f\"As boolean: {bool_value}\")\n"
      ],
      "metadata": {
        "id": "COLQn4vBy2Kk"
      },
      "execution_count": null,
      "outputs": []
    },
    {
      "cell_type": "code",
      "source": [
        "10.Write code to demonstrate type casting with list elements.\n",
        "Ans-Here’s a Python program demonstrating type casting with list elements:\n",
        "# Original list with string numbers\n",
        "str_list = [\"10\", \"20\", \"30\", \"40\"]\n",
        "print(\"Original list (strings):\", str_list)\n",
        "print(\"Types:\", [type(x) for x in str_list])\n",
        "# Convert each element from string to integer using list comprehension\n",
        "int_list = [int(x) for x in str_list]\n",
        "print(\"\\nList after type casting to integers:\", int_list)\n",
        "print(\"Types:\", [type(x) for x in int_list])\n",
        "# Convert integers to floats\n",
        "float_list = [float(x) for x in int_list]\n",
        "print(\"\\nList after type casting to floats:\", float_list)\n",
        "print(\"Types:\", [type(x) for x in float_list])\n",
        "\n",
        "Explanation\n",
        "1.\tOriginal list contains strings representing numbers.\n",
        "2.\t[int(x) for x in str_list] → Converts each string to an integer.\n",
        "3.\t[float(x) for x in int_list] → Converts each integer to a float.\n",
        "4.\tUsing list comprehension makes it concise and efficient.\n"
      ],
      "metadata": {
        "id": "6_4zsNgOy5Pr"
      },
      "execution_count": null,
      "outputs": []
    },
    {
      "cell_type": "code",
      "source": [
        "11. Write a program that checks if a number is positive, negative, or zero\n",
        "Ans\n",
        "Here’s a simple Python program to check whether a number is positive, negative, or zero:\n",
        "# Take input from the user\n",
        "num = float(input(\"Enter a number: \"))\n",
        "# Check whether the number is positive, negative, or zero\n",
        "if num > 0:\n",
        "    print(\"The number is positive.\")\n",
        "elif num < 0:\n",
        "    print(\"The number is negative.\")\n",
        "else:\n",
        "    print(\"The number is zero.\")\n",
        "Explanation\n",
        "1.\tinput() → Gets user input as a string.\n",
        "2.\tfloat() → Converts the input to a number (allows integers and decimals).\n",
        "3.\tif-elif-else → Checks conditions:\n",
        "o\tnum > 0 → Positive\n",
        "o\tnum < 0 → Negative\n",
        "o\tnum == 0 → Zero\n"
      ],
      "metadata": {
        "id": "9ULFO63rzAoK"
      },
      "execution_count": null,
      "outputs": []
    },
    {
      "cell_type": "code",
      "source": [
        "12. Write a for loop to print numbers from 1 to 10.\n",
        "Ans- Here’s a simple Python program using a for loop to print numbers from 1 to 10:\n",
        "# Using a for loop to print numbers from 1 to 10\n",
        "for i in range(1, 11):\n",
        "    print(i)\n",
        "Explanation\n",
        "1.\trange(1, 11) → Generates numbers from 1 to 10 (upper bound is exclusive).\n",
        "2.\tfor i in range(...) → Loops over each number in the range.\n",
        "3.\tprint(i) → Prints each number.\n"
      ],
      "metadata": {
        "id": "olcaT2ByzH7j"
      },
      "execution_count": null,
      "outputs": []
    },
    {
      "cell_type": "code",
      "source": [
        "13. Write a Python program to find the sum of all even numbers between 1 and 50\n",
        "Ans- # Initialize sum\n",
        "total = 0\n",
        "# Loop through numbers from 1 to 50\n",
        "for num in range(1, 51):\n",
        "    if num % 2 == 0:   # Check if the number is even\n",
        "        total += num\n",
        "# Display the result\n",
        "print(\"Sum of all even numbers between 1 and 50 is:\", total)\n",
        "\n",
        "Explanation\n",
        "1.\trange(1, 51) → Generates numbers from 1 to 50 (upper bound is exclusive).\n",
        "2.\tnum % 2 == 0 → Checks if the number is even.\n",
        "3.\ttotal += num → Adds the even number to the running sum.\n",
        "4.\tprint() → Displays the final sum.\n"
      ],
      "metadata": {
        "id": "aI5RB0L_zNej"
      },
      "execution_count": null,
      "outputs": []
    },
    {
      "cell_type": "code",
      "source": [
        "14.Write a program to reverse a string using a while loop?\n",
        "Ans\n",
        "# Take input from the user\n",
        "original_string = input(\"Enter a string: \")\n",
        "# Initialize variables\n",
        "reversed_string = \"\"\n",
        "index = len(original_string) - 1  # Start from the last character\n",
        "# Use a while loop to reverse the string\n",
        "while index >= 0:\n",
        "    reversed_string += original_string[index]\n",
        "    index -= 1\n",
        "# Display the reversed string\n",
        "print(\"Reversed string:\", reversed_string)\n",
        "Explanation\n",
        "1.\tlen(original_string) - 1 → Gets the index of the last character.\n",
        "2.\twhile index >= 0: → Loop until the first character is reached.\n",
        "3.\treversed_string += original_string[index] → Adds characters from the end to the new string.\n",
        "4.\tindex -= 1 → Moves to the previous character.\n"
      ],
      "metadata": {
        "id": "tnZjlojXzSH6"
      },
      "execution_count": null,
      "outputs": []
    },
    {
      "cell_type": "code",
      "source": [
        "15. Write a Python program to calculate the factorial of a number provided by the user using a while loop\n",
        "# Take input from the user\n",
        "num = int(input(\"Enter a non-negative integer: \"))\n",
        "# Initialize factorial and counter\n",
        "factorial = 1\n",
        "counter = num\n",
        "# Calculate factorial using while loop\n",
        "while counter > 0:\n",
        "    factorial *= counter\n",
        "    counter -= 1\n",
        "# Display the result\n",
        "print(f\"The factorial of {num} is: {factorial}\")\n",
        "Explanation\n",
        "1.\tint(input()) → Reads user input as an integer.\n",
        "2.\tfactorial = 1 → Initialize the factorial.\n",
        "3.\tcounter = num → Start counting down from the input number.\n",
        "4.\twhile counter > 0: → Multiply factorial by counter until it reaches 1.\n",
        "5.\tcounter -= 1 → Decrement the counter in each iteration.\n"
      ],
      "metadata": {
        "id": "le9_hh2vzWAz"
      },
      "execution_count": null,
      "outputs": []
    }
  ]
}