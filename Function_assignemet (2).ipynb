{
  "metadata": {
    "kernelspec": {
      "name": "python",
      "display_name": "Python (Pyodide)",
      "language": "python"
    },
    "language_info": {
      "codemirror_mode": {
        "name": "python",
        "version": 3
      },
      "file_extension": ".py",
      "mimetype": "text/x-python",
      "name": "python",
      "nbconvert_exporter": "python",
      "pygments_lexer": "ipython3",
      "version": "3.8"
    }
  },
  "nbformat_minor": 5,
  "nbformat": 4,
  "cells": [
    {
      "id": "a2ea3606-d491-4f43-9e38-8d734962a048",
      "cell_type": "code",
      "source": "#1.What is the diffence between a function and a method in python?\n    \"\"\"\n    In Python, functions and methods are similar in that both are blocks of reusable code \n    designed to perform a specific task, but they have distinct differences in their usage\n    and  context.\n       1. Functions\n            Definition: A function is a standalone block of code that performs a specific task. \n                It is not associated with any object or class.\n            How to define: Functions are defined using the def keyword.\n                How to call: They are called by their name and can take arguments and return values.\n            Scope: Functions can be defined globally (accessible from anywhere in the code) \n                or locally within another function.\n\n        2. Methods\n                Definition: A method is a function that is associated with an object and is \n                    typically defined within a class. Methods operate on the data (attributes)\n                    contained within the object they are called on.\n                How to define: Methods are defined inside a class and have at least one \n                    parameter, usually self, which refers to the instance of the class.\n                How to call: Methods are called on objects using dot notation\n    \"\"\"",
      "metadata": {
        "trusted": true
      },
      "outputs": [],
      "execution_count": null
    },
    {
      "id": "c95ae629-150e-405d-bfae-a441ecf93263",
      "cell_type": "code",
      "source": "#2.Expalin the concept of function argument and parameters in Python.\n    \"\"\"\n    In Python, function arguments and parameters are closely related concepts used in function \n    definitions and calls.\n    1. Parameters\n        Definition: Parameters are the placeholders or variables defined in the function \n                    header that specify what arguments the function expects when it is called.\n        Purpose: They act as input variables for the function to operate on.\n        Existence: Parameters exist only during the function definition\n    2.Arguments\n        Definition: Arguments are the actual values provided to the function when it is called.\n        These values are assigned to the corresponding parameters in the function.\n        Purpose: They supply the input data to the function.\n        Existence: Arguments exist only during the function call.\n     \"\"\"",
      "metadata": {
        "trusted": true
      },
      "outputs": [],
      "execution_count": null
    },
    {
      "id": "2cbdf44e-e258-43d6-aab9-062b9dac194e",
      "cell_type": "code",
      "source": "#3. What are the diffrence ways to define and call a function in Python?\n        \"\"\"\n        In Python, there are multiple ways to define and call functions, depending on the \n        type of functionality you want to achieve\n        a. Standard Function\n            A basic function is defined using the def keyword.\n        B.Function with Default Parameters\n            You can assign default values to parameters, making them optional during function \n            calls.\n        c.Nested Function\n            A function defined inside another function.\n        Calling Functions\n            a. Standard Function Call\n                Call the function by its name and pass the required arguments\n            b.Calling with Default Arguments\n                If a parameter has a default value, you can omit it during the call.\n            c.Calling with Positional Arguments\n                Pass arguments in the same order as the function parameters.\n            D.Calling with Keyword Arguments\n                Explicitly specify which parameter each value corresponds to\n        \"\"\"",
      "metadata": {
        "trusted": true
      },
      "outputs": [],
      "execution_count": null
    },
    {
      "id": "6a6ebbcd-13f0-4bc9-849e-a891500aded3",
      "cell_type": "code",
      "source": "# 4.What is the Purpose of the 'return' statement in a python function?\n\n        \"\"\"\n        The return statement in Python serves an important role in functions: it specifies the\n        value that the function should send back to the caller. Once the return statement is\n        executed, the function terminates immediately, and the specified value (if any) is\n        sent to the code that called the function\n        \"\"\"",
      "metadata": {
        "trusted": true
      },
      "outputs": [],
      "execution_count": null
    },
    {
      "id": "418ffb69-52f6-463e-8886-ae343908612b",
      "cell_type": "code",
      "source": "# 5.What are iterators in Python and how do they differ from iterables?\n     \"\"\"\n        In Python, iterators and iterables are closely related concepts used for working with \n        data structures and looping.\n        What is an Iterator?\n            An iterator is an object that represents a stream of data. It produces the items \n            of an iterable one at a time when you call the next() function on it.\n        What is an Iterable?\n            An iterable is any object in Python that can return its elements one at a time. \n            It contains data that can be iterated over using a for loop or similar constructs.\n        \"\"\"",
      "metadata": {
        "trusted": true
      },
      "outputs": [],
      "execution_count": null
    },
    {
      "id": "cdb3ee83-be5d-475d-a172-5b1fb22a0c4c",
      "cell_type": "code",
      "source": "#6.Explain the concept of generators in Python and how they are defined ?\n    \"\"\"\n    Generators in Python are a special type of iterable that allow you to produce a sequence\n    of values lazily, meaning they generate values one at a time and only when needed. \n    This makes them memory-efficient for working with large data sets or infinite sequences\n    \"\"\"",
      "metadata": {
        "trusted": true
      },
      "outputs": [],
      "execution_count": null
    },
    {
      "id": "547ef4cc-e82e-442d-8c69-5b5a3c74a542",
      "cell_type": "code",
      "source": "#7. What are the advantage of using generators over regular function?\n\n    \"\"\"\n    enerators in Python offer several advantages over regular functions, particularly in \n    terms of memory efficiency, performance, and ease of use for certain types of tasks\n\n        1. Memory Efficiency\n            Generators use lazy evaluation: Generators produce values on-the-fly, one at a \n            time, and only when they are needed. This means that they don’t store the entire \n            sequence in memory, making them much more memory-efficient than regular functions \n            that return large collections\n        2. Performance (Speed)\n            Generators are faster for large data: Since generators yield one item at a time, \n            they do not require the overhead of building and returning a full collection, \n            which can be slow for large datasets.\n        3. Handling Infinite Sequences\n            Generators can model infinite sequences: Regular functions can’t handle infinite \n            sequences because they need to return a finite collection (like a list or a tuple).\n            Generators, on the other hand, can generate infinite sequences without running out\n            of memory, as they only produce values when requested.\n    \"\"\"",
      "metadata": {
        "trusted": true
      },
      "outputs": [],
      "execution_count": null
    },
    {
      "id": "d4e8bd1a-e650-4ff0-91d3-d84e63cbb778",
      "cell_type": "code",
      "source": "#8.What is the Lambda function in Python and when is it typically used?\n    \n    \"\"\"\n    A lambda function in Python is a small, anonymous function defined using the lambda \n    keyword. It is a one-liner function that can have any number of arguments but only \n    a single expression\n        Key Characteristics of Lambda Functions\n            Anonymous: They are unnamed functions, defined without using def.\n            Single Expression: Lambda functions can only contain one expression, no \n                statements or multi-line code.\n            Immediate Use: Often used for short-term use, especially when passing functions as\n            arguments.\n    \"\"\"",
      "metadata": {
        "trusted": true
      },
      "outputs": [],
      "execution_count": null
    },
    {
      "id": "e4246cb9-5e6e-4928-987a-71447ef73cb3",
      "cell_type": "code",
      "source": "#9.Expalin the purpose and usage of the Map() function in Python ?\n    \"\"\"\n     The map() function in Python is used to apply a given function to each item in an\n     iterable (like a list, tuple, or any other sequence). The result of applying the\n     function is returned as an iterator (map object) that can be converted into other\n     data structures like lists, tuples, etc.\n\n     The primary purpose of map() is to transform data in an iterable in a concise and \n       efficient way.\n    \"\"\"",
      "metadata": {
        "trusted": true
      },
      "outputs": [],
      "execution_count": null
    },
    {
      "id": "bf1836da-93b0-40c7-929c-6d9ed1fa007c",
      "cell_type": "code",
      "source": "# 10.What is the diffrence between map(),reduce() and filter() function in python?\n\n    \"\"\"\n        The map(), reduce(), and filter() functions in Python are all higher-order functions \n        that allow you to process iterables in a functional programming style. Each of these\n        functions applies a function to elements of an iterable, but they differ in their\n        behavior and use cases. \n\n        1. map() Function\n            Purpose: map() is used to apply a function to every item in an iterable\n            (e.g., a list or tuple), and returns an iterator with the results of the\n            function applied to each item.\n        2. filter() Function\n            Purpose: filter() is used to filter elements from an iterable based on a \n            condition. The function passed to filter() should return True or False.\n            It keeps only the elements where the function returns True and removes \n            those for which it returns False.\n        3.reduce() Function\n            Purpose: reduce() is used to accumulate (or reduce) a sequence of values to a\n            single value by applying a function that takes two arguments cumulatively. \n            It iteratively applies the function to the iterable, reducing it to one single\n            result.\n    \"\"\"",
      "metadata": {
        "trusted": true
      },
      "outputs": [],
      "execution_count": null
    },
    {
      "id": "ecd68268-7129-4d35-980a-d5cadece6172",
      "cell_type": "code",
      "source": "#11.Using pen and paper write the in ternal mechanism for sum operation using reduce\nfunction on this given list[47,11,42,13]",
      "metadata": {
        "trusted": true
      },
      "outputs": [],
      "execution_count": null
    },
    {
      "id": "6f58a11c-a114-4f6a-a23f-2511989f3877",
      "cell_type": "code",
      "source": "",
      "metadata": {
        "trusted": true
      },
      "outputs": [],
      "execution_count": null
    },
    {
      "id": "56ea6b51-6b15-4baa-bec8-90c6b63fee3c",
      "cell_type": "code",
      "source": "                    # Practicle Questions ",
      "metadata": {
        "trusted": true
      },
      "outputs": [],
      "execution_count": null
    },
    {
      "id": "db0acabb-e16d-43c7-ad6b-db1281ccb906",
      "cell_type": "code",
      "source": "#1. Write a function that takes a list of numbers as input and return the sum of all even numbrs in the list",
      "metadata": {
        "trusted": true
      },
      "outputs": [],
      "execution_count": null
    },
    {
      "id": "87f6a702-53bf-4fa7-b497-98cbb032ee3c",
      "cell_type": "code",
      "source": "N = int(input())\nList = []\nlist = []\nwhile N > 0:\n    List.append(int(input()))\n    N -= 1\nfor num in List:\n    if num % 2 == 0:\n        list.append(num)\n    else: \n        pass\nprint(sum(list))",
      "metadata": {
        "trusted": true
      },
      "outputs": [
        {
          "ename": "<class 'TypeError'>",
          "evalue": "int() argument must be a string, a bytes-like object or a real number, not 'PyodideFuture'",
          "traceback": [
            "\u001b[0;31m---------------------------------------------------------------------------\u001b[0m",
            "\u001b[0;31mTypeError\u001b[0m                                 Traceback (most recent call last)",
            "Cell \u001b[0;32mIn[3], line 1\u001b[0m\n\u001b[0;32m----> 1\u001b[0m N \u001b[38;5;241m=\u001b[39m \u001b[38;5;28;43mint\u001b[39;49m\u001b[43m(\u001b[49m\u001b[38;5;28;43minput\u001b[39;49m\u001b[43m(\u001b[49m\u001b[43m)\u001b[49m\u001b[43m)\u001b[49m\n\u001b[1;32m      2\u001b[0m List \u001b[38;5;241m=\u001b[39m []\n\u001b[1;32m      3\u001b[0m \u001b[38;5;28mlist\u001b[39m \u001b[38;5;241m=\u001b[39m []\n",
            "\u001b[0;31mTypeError\u001b[0m: int() argument must be a string, a bytes-like object or a real number, not 'PyodideFuture'"
          ],
          "output_type": "error"
        }
      ],
      "execution_count": 3
    },
    {
      "id": "6af9978b-ffdb-4d2e-a915-1e5efe33647e",
      "cell_type": "code",
      "source": "#Q.2 Create python function that accepts a string and return the revrse of that string?  ",
      "metadata": {
        "trusted": true
      },
      "outputs": [],
      "execution_count": null
    },
    {
      "id": "e8c1a7dd-598c-4f12-99f4-c849e09de99b",
      "cell_type": "code",
      "source": "def reverse_string(s):\n    return s[::-1]\ninput_string = \"hello\"\nresult = reverse_string(input_string)\nprint(\"Reversed string:\", result)",
      "metadata": {
        "trusted": true
      },
      "outputs": [
        {
          "name": "stdout",
          "output_type": "stream",
          "text": "Reversed string: olleh\n"
        }
      ],
      "execution_count": 4
    },
    {
      "id": "0653be94-8fde-4896-a409-fced22ff9cb4",
      "cell_type": "code",
      "source": "#q.3 Implement a Python function that takes a list of integer and returns a new list containing the squares of each number?\n",
      "metadata": {
        "trusted": true
      },
      "outputs": [],
      "execution_count": null
    },
    {
      "id": "8eb0a864-2459-4457-b00a-c558ce3753cf",
      "cell_type": "code",
      "source": "def square_numbers(numbers):\n    return [num ** 2 for num in numbers]\ninput_list = [1, 2, 3, 4, 5]\nresult = square_numbers(input_list)\nprint(\"List of squared numbers:\", result)",
      "metadata": {
        "trusted": true
      },
      "outputs": [
        {
          "name": "stdout",
          "output_type": "stream",
          "text": "List of squared numbers: [1, 4, 9, 16, 25]\n"
        }
      ],
      "execution_count": 5
    },
    {
      "id": "119c6074-e552-4bc6-93fb-75aa5afd4543",
      "cell_type": "code",
      "source": "#Q4.Write a Python Function that checks if a given number is a prime or not from 1 to 200",
      "metadata": {
        "trusted": true
      },
      "outputs": [],
      "execution_count": null
    },
    {
      "id": "37bfc8cf-c588-4ee2-8fd4-364ccef214f8",
      "cell_type": "code",
      "source": "def is_prime(num):\n    if num <= 1:  # 0 and 1 are not prime numbers\n        return False\n    for i in range(2, int(num**0.5) + 1):  # Check divisors up to sqrt(num)\n        if num % i == 0:\n            return False\n    return True\nfor n in range(1, 201):\n    if is_prime(n):\n        print(f\"{n} is a prime number\")",
      "metadata": {
        "trusted": true
      },
      "outputs": [],
      "execution_count": null
    },
    {
      "id": "9b92f307-bd67-430c-9c76-2f1c7caf314c",
      "cell_type": "code",
      "source": "#Q5.Create an iterator class in python that generates the fabinacci sequence up to a specificed number of terms?",
      "metadata": {
        "trusted": true
      },
      "outputs": [],
      "execution_count": null
    },
    {
      "id": "4d687567-714e-40b1-a912-fe00602f51eb",
      "cell_type": "code",
      "source": "class FibonacciIterator:\n    def __init__(self, n_terms):\n        self.n_terms = n_terms\n        self.current_term = 0\n        self.a, self.b = 0, 1  # The first two terms in the Fibonacci sequence\n    def __iter__(self):\n        return self\n    def __next__(self):\n        if self.current_term >= self.n_terms:\n            raise StopIteration  # Stop the iteration when the desired number of terms is reached\n        if self.current_term == 0:\n            self.current_term += 1\n            return self.a  # Return the first Fibonacci number (0)\n        if self.current_term == 1:\n            self.current_term += 1\n            return self.b  # Return the second Fibonacci number (1)\n        # Calculate the next Fibonacci number\n        fib = self.a + self.b\n        self.a, self.b = self.b, fib\n        self.current_term += 1\n        return fib\nn = 10  # Number of terms in the Fibonacci sequence\nfibonacci_iterator = FibonacciIterator(n)\nprint(\"Fibonacci sequence:\")\nfor number in fibonacci_iterator:\n    print(number, end=\" \")",
      "metadata": {
        "trusted": true
      },
      "outputs": [],
      "execution_count": null
    },
    {
      "id": "cb1fb5cc-881c-49f1-9dc6-24b8cfce9ad1",
      "cell_type": "code",
      "source": "#Q6.Write a generator function in Python that yields the power of 2 up to a given exponent.",
      "metadata": {
        "trusted": true
      },
      "outputs": [],
      "execution_count": null
    },
    {
      "id": "714b48da-b36a-45e7-bc35-4d2c06a963ce",
      "cell_type": "code",
      "source": "def power_of_2(exponent):\n    for i in range(exponent + 1):  # Iterate from 0 to exponent\n        yield 2 ** i  # Yield 2 raised to the power of i\nexponent = 5 \nfor power in power_of_2(exponent):\n    print(power)",
      "metadata": {
        "trusted": true
      },
      "outputs": [
        {
          "name": "stdout",
          "output_type": "stream",
          "text": "1\n2\n4\n8\n16\n32\n"
        }
      ],
      "execution_count": 7
    },
    {
      "id": "1a9aa239-b85d-470d-b76d-9c2f1c56dc1f",
      "cell_type": "code",
      "source": "#Q7.Implement a generator function that reads a file line by line and yields each line asa string",
      "metadata": {
        "trusted": true
      },
      "outputs": [],
      "execution_count": null
    },
    {
      "id": "01fa03a5-de7e-4979-ad23-eb55345eba93",
      "cell_type": "code",
      "source": "def read_file_line_by_line(file_path): \n    with open(file_path, 'r') as file:\n        for line in file:\n            yield line.strip()  # Yield each line, stripping leading/trailing whitespace\nfile_path = 'example.txt'  # Replace with the path to your file\nfor line in read_file_line_by_line(file_path):\n    print(line)",
      "metadata": {
        "trusted": true
      },
      "outputs": [
        {
          "ename": "<class 'FileNotFoundError'>",
          "evalue": "[Errno 44] No such file or directory: 'example.txt'",
          "traceback": [
            "\u001b[0;31m---------------------------------------------------------------------------\u001b[0m",
            "\u001b[0;31mFileNotFoundError\u001b[0m                         Traceback (most recent call last)",
            "Cell \u001b[0;32mIn[1], line 6\u001b[0m\n\u001b[1;32m      4\u001b[0m             \u001b[38;5;28;01myield\u001b[39;00m line\u001b[38;5;241m.\u001b[39mstrip()  \u001b[38;5;66;03m# Yield each line, stripping leading/trailing whitespace\u001b[39;00m\n\u001b[1;32m      5\u001b[0m file_path \u001b[38;5;241m=\u001b[39m \u001b[38;5;124m'\u001b[39m\u001b[38;5;124mexample.txt\u001b[39m\u001b[38;5;124m'\u001b[39m  \u001b[38;5;66;03m# Replace with the path to your file\u001b[39;00m\n\u001b[0;32m----> 6\u001b[0m \u001b[38;5;28;01mfor\u001b[39;00m line \u001b[38;5;129;01min\u001b[39;00m read_file_line_by_line(file_path):\n\u001b[1;32m      7\u001b[0m     \u001b[38;5;28mprint\u001b[39m(line)\n",
            "Cell \u001b[0;32mIn[1], line 2\u001b[0m, in \u001b[0;36mread_file_line_by_line\u001b[0;34m(file_path)\u001b[0m\n\u001b[1;32m      1\u001b[0m \u001b[38;5;28;01mdef\u001b[39;00m \u001b[38;5;21mread_file_line_by_line\u001b[39m(file_path): \n\u001b[0;32m----> 2\u001b[0m     \u001b[38;5;28;01mwith\u001b[39;00m \u001b[38;5;28;43mopen\u001b[39;49m\u001b[43m(\u001b[49m\u001b[43mfile_path\u001b[49m\u001b[43m,\u001b[49m\u001b[43m \u001b[49m\u001b[38;5;124;43m'\u001b[39;49m\u001b[38;5;124;43mr\u001b[39;49m\u001b[38;5;124;43m'\u001b[39;49m\u001b[43m)\u001b[49m \u001b[38;5;28;01mas\u001b[39;00m file:\n\u001b[1;32m      3\u001b[0m         \u001b[38;5;28;01mfor\u001b[39;00m line \u001b[38;5;129;01min\u001b[39;00m file:\n\u001b[1;32m      4\u001b[0m             \u001b[38;5;28;01myield\u001b[39;00m line\u001b[38;5;241m.\u001b[39mstrip()\n",
            "File \u001b[0;32m/lib/python3.12/site-packages/IPython/core/interactiveshell.py:324\u001b[0m, in \u001b[0;36m_modified_open\u001b[0;34m(file, *args, **kwargs)\u001b[0m\n\u001b[1;32m    317\u001b[0m \u001b[38;5;28;01mif\u001b[39;00m file \u001b[38;5;129;01min\u001b[39;00m {\u001b[38;5;241m0\u001b[39m, \u001b[38;5;241m1\u001b[39m, \u001b[38;5;241m2\u001b[39m}:\n\u001b[1;32m    318\u001b[0m     \u001b[38;5;28;01mraise\u001b[39;00m \u001b[38;5;167;01mValueError\u001b[39;00m(\n\u001b[1;32m    319\u001b[0m         \u001b[38;5;124mf\u001b[39m\u001b[38;5;124m\"\u001b[39m\u001b[38;5;124mIPython won\u001b[39m\u001b[38;5;124m'\u001b[39m\u001b[38;5;124mt let you open fd=\u001b[39m\u001b[38;5;132;01m{\u001b[39;00mfile\u001b[38;5;132;01m}\u001b[39;00m\u001b[38;5;124m by default \u001b[39m\u001b[38;5;124m\"\u001b[39m\n\u001b[1;32m    320\u001b[0m         \u001b[38;5;124m\"\u001b[39m\u001b[38;5;124mas it is likely to crash IPython. If you know what you are doing, \u001b[39m\u001b[38;5;124m\"\u001b[39m\n\u001b[1;32m    321\u001b[0m         \u001b[38;5;124m\"\u001b[39m\u001b[38;5;124myou can use builtins\u001b[39m\u001b[38;5;124m'\u001b[39m\u001b[38;5;124m open.\u001b[39m\u001b[38;5;124m\"\u001b[39m\n\u001b[1;32m    322\u001b[0m     )\n\u001b[0;32m--> 324\u001b[0m \u001b[38;5;28;01mreturn\u001b[39;00m \u001b[43mio_open\u001b[49m\u001b[43m(\u001b[49m\u001b[43mfile\u001b[49m\u001b[43m,\u001b[49m\u001b[43m \u001b[49m\u001b[38;5;241;43m*\u001b[39;49m\u001b[43margs\u001b[49m\u001b[43m,\u001b[49m\u001b[43m \u001b[49m\u001b[38;5;241;43m*\u001b[39;49m\u001b[38;5;241;43m*\u001b[39;49m\u001b[43mkwargs\u001b[49m\u001b[43m)\u001b[49m\n",
            "\u001b[0;31mFileNotFoundError\u001b[0m: [Errno 44] No such file or directory: 'example.txt'"
          ],
          "output_type": "error"
        }
      ],
      "execution_count": 1
    },
    {
      "id": "46569912-4b9c-417b-803c-852af71b8740",
      "cell_type": "code",
      "source": "#Q8.Use lambda function in python to sort a lsit of tuples based on the second element of each tuples ?",
      "metadata": {
        "trusted": true
      },
      "outputs": [],
      "execution_count": null
    },
    {
      "id": "64ec6e8b-fd15-4814-a47d-73c38b5f12e3",
      "cell_type": "code",
      "source": "tuples_list = [(1, 5), (3, 2), (4, 8), (2, 1)]\nsorted_list = sorted(tuples_list, key=lambda x: x[1])\n# Print the sorted list\nprint(sorted_list)",
      "metadata": {
        "trusted": true
      },
      "outputs": [],
      "execution_count": null
    },
    {
      "id": "d0dbe7c7-6386-4b56-9c0b-1c4b7fb792f8",
      "cell_type": "code",
      "source": "#Q9.Write a Python programe that uses 'Map()' to convert a list of temperatures from celsius to Frhrenheit",
      "metadata": {
        "trusted": true
      },
      "outputs": [],
      "execution_count": null
    },
    {
      "id": "57464151-bcc6-4582-ac20-6ae88153198e",
      "cell_type": "code",
      "source": "def celsius_to_fahrenheit(celsius):\n    return (celsius * 9/5) + 32\n# List of temperatures in Celsius\ncelsius_temps = [0, 10, 20, 30, 40, 50]\nfahrenheit_temps = list(map(celsius_to_fahrenheit, celsius_temps))\n# Print the converted temperatures\nprint(\"Celsius temperatures:\", celsius_temps)\nprint(\"Fahrenheit temperatures:\", fahrenheit_temps)",
      "metadata": {
        "trusted": true
      },
      "outputs": [
        {
          "name": "stdout",
          "output_type": "stream",
          "text": "Celsius temperatures: [0, 10, 20, 30, 40, 50]\nFahrenheit temperatures: [32.0, 50.0, 68.0, 86.0, 104.0, 122.0]\n"
        }
      ],
      "execution_count": 8
    },
    {
      "id": "38a94bee-a990-4963-bcf0-f79c3f2cccc7",
      "cell_type": "code",
      "source": "Q10.create a Python program that uses filter() to remove all the vowels from a given string.",
      "metadata": {
        "trusted": true
      },
      "outputs": [],
      "execution_count": null
    },
    {
      "id": "db52c0a6-2b8c-4c34-a2ee-0075229d3829",
      "cell_type": "code",
      "source": "def is_not_vowel(char):\n    return char.lower() not in 'aeiou'\ninput_string = \"Hello, World!\"\nfiltered_string = ''.join(filter(is_not_vowel, input_string))\nprint(\"Original string:\", input_string)\nprint(\"String without vowels:\", filtered_string)",
      "metadata": {
        "trusted": true
      },
      "outputs": [
        {
          "name": "stdout",
          "output_type": "stream",
          "text": "Original string: Hello, World!\nString without vowels: Hll, Wrld!\n"
        }
      ],
      "execution_count": 9
    },
    {
      "id": "e1008ca2-f55d-4b9d-ba15-4be13768087c",
      "cell_type": "code",
      "source": "#Q.11.Write a program , which returns a list with 2 - tuples.Each tuple consist of the order\nnumber and the product of the price per item and the quality. The product should be \nincreased by 10, -e if the value of he order is smaller than 10000\nWrite a python program using lambda and map.",
      "metadata": {
        "trusted": true
      },
      "outputs": [],
      "execution_count": null
    }
  ]
}